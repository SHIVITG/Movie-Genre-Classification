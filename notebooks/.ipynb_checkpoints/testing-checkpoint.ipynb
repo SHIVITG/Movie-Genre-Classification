{
 "cells": [
  {
   "cell_type": "code",
   "execution_count": 1,
   "metadata": {},
   "outputs": [
    {
     "name": "stderr",
     "output_type": "stream",
     "text": [
      "\r",
      "  0%|          | 0/10 [00:00<?, ?it/s]"
     ]
    }
   ],
   "source": [
    "import sys\n",
    "sys.path.append('../')\n",
    "import pandas as pd\n",
    "import requests\n",
    "from bs4 import BeautifulSoup\n",
    "import tqdm.notebook as tq\n",
    "from modules import get_movie_names"
   ]
  },
  {
   "cell_type": "code",
   "execution_count": null,
   "metadata": {},
   "outputs": [
    {
     "name": "stdout",
     "output_type": "stream",
     "text": [
      "Fetching 1000 movie names from 10 pages...\n"
     ]
    },
    {
     "name": "stderr",
     "output_type": "stream",
     "text": [
      " 20%|██        | 2/10 [00:23<01:33, 11.72s/it]"
     ]
    }
   ],
   "source": [
    "get_movie_names.fetch_movie_names()\n",
    "get_movie_names.cleanMovieName()"
   ]
  },
  {
   "cell_type": "code",
   "execution_count": null,
   "metadata": {},
   "outputs": [],
   "source": [
    "!python3 ../modules/prepare_training_data.py"
   ]
  },
  {
   "cell_type": "code",
   "execution_count": null,
   "metadata": {},
   "outputs": [],
   "source": [
    "BASE_DIR='../data/processed/'\n",
    "movies_list= BASE_DIR + 'clean_movie_names.csv'\n",
    "BASE_URL='https://en.wikipedia.org/wiki/'\n",
    "DEST_DIR = '../data/unseen/'\n",
    "\n",
    "def fetch_attributes_from_wikipedia():\n",
    "    cast=[]\n",
    "    release_year=[]\n",
    "    plot=[]\n",
    "    title=[]\n",
    "    movies_name=pd.read_csv(movies_list)\n",
    "    print(\"Fetching movie attributes..\")\n",
    "    for movie in tq.tqdm(movies_name['text']):\n",
    "        full_plot=\"NA\"\n",
    "        movie_uri=movie.replace(\" \",\"_\")\n",
    "        start_url = requests.get(BASE_URL + movie_uri).content\n",
    "        soup = BeautifulSoup(start_url, 'html.parser')\n",
    "        table = soup.find(\"table\",{\"class\":\"infobox vevent\"})\n",
    "        if table is None:\n",
    "            start_url = requests.get(BASE_URL + movie + '_(film)').content\n",
    "            soup = BeautifulSoup(start_url, 'html.parser')\n",
    "            table = soup.find(\"table\",{\"class\":\"infobox vevent\"})\n",
    "        values = []\n",
    "        keys=[]\n",
    "        if table is not None:\n",
    "            try:\n",
    "                tag  = soup.select_one('#Plot').find_parent('h2').find_next_sibling()\n",
    "                while tag.name == 'p':\n",
    "                    full_plot=full_plot + tag.text\n",
    "                    tag = tag.find_next_sibling()\n",
    "            except:\n",
    "                full_plot=full_plot\n",
    "            for tr in table:\n",
    "                th=tr.find_all('th')\n",
    "                td = tr.find_all('td')\n",
    "                value = [tr.text for tr in td]\n",
    "                key= [tr.text for tr in th]\n",
    "                values.append(value)\n",
    "                keys.append(key)\n",
    "            values=values[0]\n",
    "            keys=keys[0]\n",
    "            dictionary = dict(zip(keys, values))\n",
    "            try:\n",
    "                cast.append(dictionary['Starring'])\n",
    "                release_year.append(dictionary['Release date'])\n",
    "                title.append(movie)\n",
    "                plot.append(full_plot)\n",
    "                #print(\"All attributes fetched for movie - \"+movie)\n",
    "            except:\n",
    "                cast.append('NA')\n",
    "                release_year.append('NA')\n",
    "                title.append(movie)\n",
    "                plot.append(full_plot)\n",
    "    print(len(title))\n",
    "    print(len(cast))\n",
    "    print(len(release_year))\n",
    "    print(len(plot))\n",
    "    unseen_data = pd.DataFrame({'title':title,\n",
    "                                'cast':cast,'release_year':release_year,'plot':plot})\n",
    "    unseen_data.to_csv(DEST_DIR+'unseen_data.csv',index=False)\n",
    "    print(\"Data fetching from Wikipedia completed! Results stored under ../data/unseen/\")"
   ]
  },
  {
   "cell_type": "code",
   "execution_count": null,
   "metadata": {},
   "outputs": [],
   "source": [
    "fetch_attributes_from_wikipedia()"
   ]
  },
  {
   "cell_type": "code",
   "execution_count": null,
   "metadata": {},
   "outputs": [],
   "source": []
  }
 ],
 "metadata": {
  "kernelspec": {
   "display_name": "Python 3",
   "language": "python",
   "name": "python3"
  },
  "language_info": {
   "codemirror_mode": {
    "name": "ipython",
    "version": 3
   },
   "file_extension": ".py",
   "mimetype": "text/x-python",
   "name": "python",
   "nbconvert_exporter": "python",
   "pygments_lexer": "ipython3",
   "version": "3.7.7"
  }
 },
 "nbformat": 4,
 "nbformat_minor": 2
}
