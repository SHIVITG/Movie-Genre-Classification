{
 "cells": [
  {
   "cell_type": "code",
   "execution_count": 16,
   "metadata": {},
   "outputs": [],
   "source": [
    "import sys\n",
    "sys.path.append('../')\n",
    "import pandas as pd\n",
    "import requests\n",
    "from bs4 import BeautifulSoup"
   ]
  },
  {
   "cell_type": "code",
   "execution_count": 12,
   "metadata": {},
   "outputs": [
    {
     "name": "stdout",
     "output_type": "stream",
     "text": [
      "Fetching 1000 movie names.....\n",
      "1000 movie names fetched and stored as csv under ../data/raw/unclean_movie_names.csv\n",
      "Cleaning movie names...\n",
      "Movie names cleaned and stored under ../data/processed/clean_movie_names.csv\n"
     ]
    }
   ],
   "source": [
    "from modules import get_movie_names\n",
    "\n",
    "get_movie_names.fetch_movie_names()\n",
    "get_movie_names.cleanMovieName()"
   ]
  },
  {
   "cell_type": "code",
   "execution_count": 13,
   "metadata": {},
   "outputs": [
    {
     "name": "stdout",
     "output_type": "stream",
     "text": [
      "42303it [00:01, 27823.75it/s]\n",
      "100%|████████████████████████████████| 42303/42303 [00:00<00:00, 1136690.11it/s]\n",
      "../modules/prepare_training_data.py:145: SettingWithCopyWarning: \n",
      "A value is trying to be set on a copy of a slice from a DataFrame.\n",
      "Try using .loc[row_indexer,col_indexer] = value instead\n",
      "\n",
      "See the caveats in the documentation: https://pandas.pydata.org/pandas-docs/stable/user_guide/indexing.html#returning-a-view-versus-a-copy\n",
      "  cmu_selected_data['Genre'] = genres\n",
      "../modules/prepare_training_data.py:146: SettingWithCopyWarning: \n",
      "A value is trying to be set on a copy of a slice from a DataFrame.\n",
      "Try using .loc[row_indexer,col_indexer] = value instead\n",
      "\n",
      "See the caveats in the documentation: https://pandas.pydata.org/pandas-docs/stable/user_guide/indexing.html#returning-a-view-versus-a-copy\n",
      "  cmu_selected_data['Genre'] = cmu_selected_data['Genre'].astype(str)\n",
      "../modules/prepare_training_data.py:159: SettingWithCopyWarning: \n",
      "A value is trying to be set on a copy of a slice from a DataFrame.\n",
      "Try using .loc[row_indexer,col_indexer] = value instead\n",
      "\n",
      "See the caveats in the documentation: https://pandas.pydata.org/pandas-docs/stable/user_guide/indexing.html#returning-a-view-versus-a-copy\n",
      "  cmu_selected_data['Genre']=cmu_selected_data['Genre'].map(cmu_mapping)\n"
     ]
    }
   ],
   "source": [
    "!python3 ../modules/prepare_training_data.py"
   ]
  },
  {
   "cell_type": "markdown",
   "metadata": {},
   "source": [
    "## Wikipedia code goes here"
   ]
  },
  {
   "cell_type": "markdown",
   "metadata": {},
   "source": [
    "Movie name is - The Godfather (Space is there in words)\n",
    "\n",
    "Use str.replace(\" \",\"_\") before sending request"
   ]
  },
  {
   "cell_type": "markdown",
   "metadata": {},
   "source": [
    "Example"
   ]
  },
  {
   "cell_type": "code",
   "execution_count": 19,
   "metadata": {},
   "outputs": [],
   "source": [
    "BASE_DIR='../data/processed/'\n",
    "movies_list= BASE_DIR + 'clean_movie_names.csv'\n",
    "BASE_URL='https://en.wikipedia.org/wiki/'"
   ]
  },
  {
   "cell_type": "code",
   "execution_count": 52,
   "metadata": {},
   "outputs": [
    {
     "data": {
      "text/plain": [
       "895"
      ]
     },
     "execution_count": 52,
     "metadata": {},
     "output_type": "execute_result"
    }
   ],
   "source": [
    "pd.read_csv(movies_list)['text'].nunique()"
   ]
  },
  {
   "cell_type": "code",
   "execution_count": 62,
   "metadata": {},
   "outputs": [],
   "source": [
    "def fetch_movie_data():\n",
    "    cast=[]\n",
    "    release_year=[]\n",
    "    plot=[]\n",
    "    movies_name=pd.read_csv(movies_list)\n",
    "    for movie in movies_name['text']:\n",
    "        print(movie)\n",
    "        movie=movie.replace(\" \",\"_\")\n",
    "        start_url = requests.get(BASE_URL + movie).content\n",
    "        soup = BeautifulSoup(start_url, 'html.parser')\n",
    "        table = soup.find(\"table\",{\"class\":\"infobox vevent\"})\n",
    "        if table is None:\n",
    "            start_url = requests.get(BASE_URL + movie + '_(film)').content\n",
    "            soup = BeautifulSoup(start_url, 'html.parser')\n",
    "            table = soup.find(\"table\",{\"class\":\"infobox vevent\"})\n",
    "        full_plot = []\n",
    "        try:\n",
    "            tag  = soup.select_one('#Plot').find_parent('h2').find_next_sibling()\n",
    "            while tag.name == 'p':\n",
    "                full_plot.append(tag.text)\n",
    "                tag = tag.find_next_sibling()\n",
    "        except:\n",
    "            print(\"No Plot Found\")\n",
    "        values = []\n",
    "        keys=[]\n",
    "        if table is not None:\n",
    "            for tr in table:\n",
    "                th=tr.find_all('th')\n",
    "                td = tr.find_all('td')\n",
    "                value = [tr.text for tr in td]\n",
    "                key= [tr.text for tr in th]\n",
    "                values.append(value)\n",
    "                keys.append(key)\n",
    "            values=values[0]\n",
    "            keys=keys[0]\n",
    "            dictionary = dict(zip(keys, values))\n",
    "            try:\n",
    "                cast.append(dictionary['Starring'])\n",
    "                release_year.append(dictionary['Release date'])\n",
    "                plot.append(full_plot)\n",
    "            except:\n",
    "                print(\"Key Error\")\n",
    "    return pd.DataFrame({'cast':cast,'release_year':release_year,'plot':plot})"
   ]
  },
  {
   "cell_type": "code",
   "execution_count": null,
   "metadata": {},
   "outputs": [
    {
     "name": "stdout",
     "output_type": "stream",
     "text": [
      "The Godfather\n",
      "The Godfather: Part II\n",
      "Schindler's List\n",
      "The Lord of the Rings: The Return of the King\n",
      "One Flew Over the Cuckoo's Nest\n",
      "Forrest Gump\n",
      "The Silence of the Lambs\n",
      "Casablanca\n",
      "The Departed\n",
      "American Beauty\n",
      "Gladiator\n",
      "No Plot Found\n",
      "Lawrence of Arabia\n",
      "Braveheart\n",
      "Amadeus\n",
      "All About Eve\n",
      "The Sting\n",
      "Unforgiven\n",
      "The Apartment\n",
      "12 Years a Slave\n",
      "The Bridge on the River Kwai\n",
      "On the Waterfront\n",
      "Rebecca\n",
      "No Plot Found\n",
      "The Deer Hunter\n",
      "It Happened One Night\n",
      "No Country for Old Men\n",
      "Platoon\n",
      "Gone with the Wind\n",
      "Annie Hall\n",
      "The King's Speech\n",
      "Million Dollar Baby\n",
      "Ben-Hur\n",
      "No Plot Found\n",
      "The Best Years of Our Lives\n",
      "Gandhi\n",
      "A Beautiful Mind\n",
      "Rocky\n",
      "Slumdog Millionaire\n",
      "The ArtistI \n",
      "No Plot Found\n",
      "All Quiet on the Western Front\n",
      "No Plot Found\n",
      "Rain Man\n",
      "The Lost Weekend\n",
      "SpotlightI \n",
      "No Plot Found\n",
      "In the Heat of the Night\n",
      "Dances with Wolves\n"
     ]
    }
   ],
   "source": [
    "data=fetch_movie_data()"
   ]
  },
  {
   "cell_type": "code",
   "execution_count": 57,
   "metadata": {},
   "outputs": [
    {
     "data": {
      "text/html": [
       "<div>\n",
       "<style scoped>\n",
       "    .dataframe tbody tr th:only-of-type {\n",
       "        vertical-align: middle;\n",
       "    }\n",
       "\n",
       "    .dataframe tbody tr th {\n",
       "        vertical-align: top;\n",
       "    }\n",
       "\n",
       "    .dataframe thead th {\n",
       "        text-align: right;\n",
       "    }\n",
       "</style>\n",
       "<table border=\"1\" class=\"dataframe\">\n",
       "  <thead>\n",
       "    <tr style=\"text-align: right;\">\n",
       "      <th></th>\n",
       "      <th>cast</th>\n",
       "      <th>release_year</th>\n",
       "      <th>plot</th>\n",
       "    </tr>\n",
       "  </thead>\n",
       "  <tbody>\n",
       "    <tr>\n",
       "      <th>0</th>\n",
       "      <td>\\nMarlon Brando\\nAl Pacino\\nJames Caan\\nRichar...</td>\n",
       "      <td>\\nMarch 14, 1972 (1972-03-14) (Loew's State Th...</td>\n",
       "      <td>[In 1945 New York City, at his daughter Connie...</td>\n",
       "    </tr>\n",
       "  </tbody>\n",
       "</table>\n",
       "</div>"
      ],
      "text/plain": [
       "                                                cast  \\\n",
       "0  \\nMarlon Brando\\nAl Pacino\\nJames Caan\\nRichar...   \n",
       "\n",
       "                                        release_year  \\\n",
       "0  \\nMarch 14, 1972 (1972-03-14) (Loew's State Th...   \n",
       "\n",
       "                                                plot  \n",
       "0  [In 1945 New York City, at his daughter Connie...  "
      ]
     },
     "execution_count": 57,
     "metadata": {},
     "output_type": "execute_result"
    }
   ],
   "source": []
  },
  {
   "cell_type": "code",
   "execution_count": null,
   "metadata": {},
   "outputs": [],
   "source": []
  }
 ],
 "metadata": {
  "kernelspec": {
   "display_name": "Python 3",
   "language": "python",
   "name": "python3"
  },
  "language_info": {
   "codemirror_mode": {
    "name": "ipython",
    "version": 3
   },
   "file_extension": ".py",
   "mimetype": "text/x-python",
   "name": "python",
   "nbconvert_exporter": "python",
   "pygments_lexer": "ipython3",
   "version": "3.7.7"
  }
 },
 "nbformat": 4,
 "nbformat_minor": 2
}
