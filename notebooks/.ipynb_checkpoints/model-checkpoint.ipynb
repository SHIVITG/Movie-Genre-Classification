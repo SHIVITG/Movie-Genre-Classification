{
 "cells": [
  {
   "cell_type": "markdown",
   "metadata": {},
   "source": [
    "\n",
    "## Classifying movie genre based on text from [Wikipedia](https://wikipedia.org) pages of movies.\n",
    "\n",
    "> Assignment from **WiseStep Inc.**"
   ]
  },
  {
   "cell_type": "markdown",
   "metadata": {},
   "source": [
    "---\n",
    "\n",
    "### Neccessary imports"
   ]
  },
  {
   "cell_type": "code",
   "execution_count": 1,
   "metadata": {},
   "outputs": [],
   "source": [
    "import sys\n",
    "sys.path.append('../')\n",
    "import warnings\n",
    "warnings.filterwarnings('ignore')\n",
    "import pandas as pd\n",
    "import numpy as np\n",
    "import matplotlib.pyplot as plt\n",
    "import seaborn as sns\n",
    "from wordcloud import WordCloud\n",
    "import re\n",
    "import os\n",
    "from sklearn.model_selection import GridSearchCV\n",
    "from sklearn.model_selection import cross_val_score\n",
    "import datetime as dt\n",
    "from nltk.corpus import stopwords\n",
    "from nltk.tokenize import word_tokenize\n",
    "from nltk.stem.snowball import SnowballStemmer\n",
    "from sklearn.feature_extraction.text import CountVectorizer\n",
    "from sklearn.feature_extraction.text import TfidfVectorizer\n",
    "from sklearn.multiclass import OneVsRestClassifier\n",
    "from sklearn.linear_model import SGDClassifier\n",
    "from sklearn import metrics\n",
    "from sklearn.metrics import f1_score,precision_score,recall_score\n",
    "from sklearn import svm\n",
    "from datetime import datetime\n",
    "import pickle\n",
    "from sklearn.linear_model import LogisticRegression\n",
    "import joblib\n",
    "\n",
    "DATA_DIR = '../data/'"
   ]
  },
  {
   "cell_type": "markdown",
   "metadata": {},
   "source": [
    "---\n",
    "\n",
    "# Assignment Overview"
   ]
  },
  {
   "cell_type": "markdown",
   "metadata": {},
   "source": [
    "---\n",
    "## Step 1\n",
    "\n",
    "```\n",
    "\n",
    "Write a script in any language of your choice and scrape 1000 wikipedia pages related to movies and store the following attributes about them in any human readable fileformat : Movie name, Main Actor(s), Year of Release\n",
    "\n",
    "```"
   ]
  },
  {
   "cell_type": "markdown",
   "metadata": {},
   "source": [
    "**Problem** - Since Wikipedia has billions of pages. Hence, without manually filtering out pages related to movies, it will be very tedious and time consuming to first store 1000 movie names and then scrape these 1000 movie names to fetch required attributes.\n",
    "\n",
    "---\n",
    "\n",
    "**Solution** - Instead of manually storing 1000 movie names and then scraping 1000 pages of the movies' wikipedia, I broke the solution into 2 parts.\n",
    "\n",
    "I have written 2 _python3_ scripts. One script first scrapes the iMDB website to fetch 1000 movie names. The movie names are stored and then these 1000 movies' wikipedia pages are scraped to collect required attributes.\n",
    "\n",
    "The 2 _python3_ scripts are :\n",
    "\n",
    "    - ../modules/get_movie_names.py\n",
    "    - ../modules/get_wiki_data.py\n"
   ]
  },
  {
   "cell_type": "markdown",
   "metadata": {},
   "source": [
    "---\n",
    "\n",
    "### Step 1 - Part 1\n",
    "\n",
    "---\n",
    "\n",
    "> Collecting 1000 movie names\n",
    "\n",
    "The script ``` ../modules/get_movie_names.py ``` uses BeautifulSoup4 as scarping library to go through iMDB pages and store 1000 movies' names.\n",
    "\n",
    "Page scraped - [Top 1000 movies ever made](https://www.imdb.com/list/ls056549735/?st_dt=&mode=detail&page=1&sort=list_order,asc)"
   ]
  },
  {
   "cell_type": "code",
   "execution_count": 2,
   "metadata": {},
   "outputs": [
    {
     "name": "stderr",
     "output_type": "stream",
     "text": [
      "\r",
      "  0%|          | 0/10 [00:00<?, ?it/s]"
     ]
    }
   ],
   "source": [
    "from modules import get_movie_names"
   ]
  },
  {
   "cell_type": "code",
   "execution_count": 3,
   "metadata": {},
   "outputs": [
    {
     "name": "stdout",
     "output_type": "stream",
     "text": [
      "Fetching 1000 movie names from 10 pages...\n"
     ]
    },
    {
     "name": "stderr",
     "output_type": "stream",
     "text": [
      "100%|██████████| 10/10 [01:28<00:00,  8.61s/it]"
     ]
    },
    {
     "name": "stdout",
     "output_type": "stream",
     "text": [
      "1000 movie names fetched and stored as csv under ../data/raw/unclean_movie_names.csv\n"
     ]
    }
   ],
   "source": [
    "get_movie_names.fetch_movie_names()"
   ]
  },
  {
   "cell_type": "markdown",
   "metadata": {},
   "source": [
    "Now we have names of 1000 movies fetched from iMDB website. We can use these names to scrape data from their respective Wikipedia pages.\n",
    "\n",
    "But these names are not in plain text right now. They have unwanted characters appended to them.\n",
    "\n",
    "A special function to clean the movie names is present in the ```get_movie_names.py``` script. This will clean the text to get it ready to scrape Wikipedia pages."
   ]
  },
  {
   "cell_type": "markdown",
   "metadata": {},
   "source": [
    "\n",
    "---\n",
    "\n",
    "<h4 style=\"color:red\">Movie names before cleaning</h4>"
   ]
  },
  {
   "cell_type": "code",
   "execution_count": 4,
   "metadata": {},
   "outputs": [],
   "source": [
    "uncleaned_movie_names = pd.read_csv(DATA_DIR+'raw/unclean_movie_names.csv')"
   ]
  },
  {
   "cell_type": "code",
   "execution_count": 5,
   "metadata": {},
   "outputs": [
    {
     "data": {
      "text/plain": [
       "(1000, 1)"
      ]
     },
     "execution_count": 5,
     "metadata": {},
     "output_type": "execute_result"
    }
   ],
   "source": [
    "uncleaned_movie_names.shape"
   ]
  },
  {
   "cell_type": "code",
   "execution_count": 6,
   "metadata": {},
   "outputs": [
    {
     "data": {
      "text/html": [
       "<div>\n",
       "<style scoped>\n",
       "    .dataframe tbody tr th:only-of-type {\n",
       "        vertical-align: middle;\n",
       "    }\n",
       "\n",
       "    .dataframe tbody tr th {\n",
       "        vertical-align: top;\n",
       "    }\n",
       "\n",
       "    .dataframe thead th {\n",
       "        text-align: right;\n",
       "    }\n",
       "</style>\n",
       "<table border=\"1\" class=\"dataframe\">\n",
       "  <thead>\n",
       "    <tr style=\"text-align: right;\">\n",
       "      <th></th>\n",
       "      <th>name</th>\n",
       "    </tr>\n",
       "  </thead>\n",
       "  <tbody>\n",
       "    <tr>\n",
       "      <td>0</td>\n",
       "      <td>\\n1.\\nThe Godfather\\n(1972)\\n</td>\n",
       "    </tr>\n",
       "    <tr>\n",
       "      <td>1</td>\n",
       "      <td>\\n2.\\nThe Godfather: Part II\\n(1974)\\n</td>\n",
       "    </tr>\n",
       "    <tr>\n",
       "      <td>2</td>\n",
       "      <td>\\n3.\\nSchindler's List\\n(1993)\\n</td>\n",
       "    </tr>\n",
       "    <tr>\n",
       "      <td>3</td>\n",
       "      <td>\\n4.\\nThe Lord of the Rings: The Return of the...</td>\n",
       "    </tr>\n",
       "    <tr>\n",
       "      <td>4</td>\n",
       "      <td>\\n5.\\nOne Flew Over the Cuckoo's Nest\\n(1975)\\n</td>\n",
       "    </tr>\n",
       "  </tbody>\n",
       "</table>\n",
       "</div>"
      ],
      "text/plain": [
       "                                                name\n",
       "0                      \\n1.\\nThe Godfather\\n(1972)\\n\n",
       "1             \\n2.\\nThe Godfather: Part II\\n(1974)\\n\n",
       "2                   \\n3.\\nSchindler's List\\n(1993)\\n\n",
       "3  \\n4.\\nThe Lord of the Rings: The Return of the...\n",
       "4    \\n5.\\nOne Flew Over the Cuckoo's Nest\\n(1975)\\n"
      ]
     },
     "execution_count": 6,
     "metadata": {},
     "output_type": "execute_result"
    }
   ],
   "source": [
    "uncleaned_movie_names.head()"
   ]
  },
  {
   "cell_type": "code",
   "execution_count": 7,
   "metadata": {},
   "outputs": [
    {
     "data": {
      "text/plain": [
       "'\\n55.\\nThe Last Emperor\\n(1987)\\n'"
      ]
     },
     "execution_count": 7,
     "metadata": {},
     "output_type": "execute_result"
    }
   ],
   "source": [
    "uncleaned_movie_names.name[54]"
   ]
  },
  {
   "cell_type": "markdown",
   "metadata": {},
   "source": [
    "\n",
    "---\n",
    "\n",
    "<h4 style=\"color:green\">Movie names after cleaning</h4>"
   ]
  },
  {
   "cell_type": "code",
   "execution_count": 8,
   "metadata": {},
   "outputs": [
    {
     "name": "stdout",
     "output_type": "stream",
     "text": [
      "Cleaning movie names...\n",
      "Movie names cleaned and stored under ../data/processed/clean_movie_names.csv\n"
     ]
    }
   ],
   "source": [
    "get_movie_names.cleanMovieName()"
   ]
  },
  {
   "cell_type": "code",
   "execution_count": 9,
   "metadata": {},
   "outputs": [],
   "source": [
    "cleaned_movie_names = pd.read_csv(DATA_DIR+'processed/clean_movie_names.csv')"
   ]
  },
  {
   "cell_type": "code",
   "execution_count": 10,
   "metadata": {},
   "outputs": [
    {
     "data": {
      "text/plain": [
       "(1000, 1)"
      ]
     },
     "execution_count": 10,
     "metadata": {},
     "output_type": "execute_result"
    }
   ],
   "source": [
    "cleaned_movie_names.shape"
   ]
  },
  {
   "cell_type": "code",
   "execution_count": 11,
   "metadata": {},
   "outputs": [
    {
     "data": {
      "text/html": [
       "<div>\n",
       "<style scoped>\n",
       "    .dataframe tbody tr th:only-of-type {\n",
       "        vertical-align: middle;\n",
       "    }\n",
       "\n",
       "    .dataframe tbody tr th {\n",
       "        vertical-align: top;\n",
       "    }\n",
       "\n",
       "    .dataframe thead th {\n",
       "        text-align: right;\n",
       "    }\n",
       "</style>\n",
       "<table border=\"1\" class=\"dataframe\">\n",
       "  <thead>\n",
       "    <tr style=\"text-align: right;\">\n",
       "      <th></th>\n",
       "      <th>text</th>\n",
       "    </tr>\n",
       "  </thead>\n",
       "  <tbody>\n",
       "    <tr>\n",
       "      <td>0</td>\n",
       "      <td>The Godfather</td>\n",
       "    </tr>\n",
       "    <tr>\n",
       "      <td>1</td>\n",
       "      <td>The Godfather: Part II</td>\n",
       "    </tr>\n",
       "    <tr>\n",
       "      <td>2</td>\n",
       "      <td>Schindler's List</td>\n",
       "    </tr>\n",
       "    <tr>\n",
       "      <td>3</td>\n",
       "      <td>The Lord of the Rings: The Return of the King</td>\n",
       "    </tr>\n",
       "    <tr>\n",
       "      <td>4</td>\n",
       "      <td>One Flew Over the Cuckoo's Nest</td>\n",
       "    </tr>\n",
       "  </tbody>\n",
       "</table>\n",
       "</div>"
      ],
      "text/plain": [
       "                                            text\n",
       "0                                  The Godfather\n",
       "1                         The Godfather: Part II\n",
       "2                               Schindler's List\n",
       "3  The Lord of the Rings: The Return of the King\n",
       "4                One Flew Over the Cuckoo's Nest"
      ]
     },
     "execution_count": 11,
     "metadata": {},
     "output_type": "execute_result"
    }
   ],
   "source": [
    "cleaned_movie_names.head()"
   ]
  },
  {
   "cell_type": "code",
   "execution_count": 12,
   "metadata": {},
   "outputs": [
    {
     "data": {
      "text/plain": [
       "'The Last Emperor'"
      ]
     },
     "execution_count": 12,
     "metadata": {},
     "output_type": "execute_result"
    }
   ],
   "source": [
    "cleaned_movie_names.text[54]"
   ]
  },
  {
   "cell_type": "markdown",
   "metadata": {},
   "source": [
    "---\n",
    "\n",
    "### Step 1 - Part 2\n",
    "\n",
    "---\n",
    "\n",
    "> Collecting attributes for movie names by scraping Wikipedia pages of respective movie.\n",
    "\n",
    "The script ``` ../modules/get_wiki_data.py ``` uses BeautifulSoup4 as scarping library to go through Wikipedia pages of respective movie names and fetches the following attributes.\n",
    "\n",
    "- Cast\n",
    "- Year Of Release\n",
    "- Plot (Text on Wikipedia)\n",
    "\n"
   ]
  },
  {
   "cell_type": "code",
   "execution_count": 15,
   "metadata": {},
   "outputs": [],
   "source": [
    "from modules import get_wiki_data"
   ]
  },
  {
   "cell_type": "code",
   "execution_count": 16,
   "metadata": {},
   "outputs": [
    {
     "name": "stdout",
     "output_type": "stream",
     "text": [
      "Fetching movie attributes..\n"
     ]
    },
    {
     "data": {
      "application/vnd.jupyter.widget-view+json": {
       "model_id": "96f2769c84884e948bf620aea25d9b17",
       "version_major": 2,
       "version_minor": 0
      },
      "text/plain": [
       "HBox(children=(IntProgress(value=0, max=1000), HTML(value='')))"
      ]
     },
     "metadata": {},
     "output_type": "display_data"
    },
    {
     "name": "stdout",
     "output_type": "stream",
     "text": [
      "\n",
      "Data fetching from Wikipedia completed! Results stored under ../data/unseen/unseen_data.csv\n"
     ]
    }
   ],
   "source": [
    "get_wiki_data.fetch_attributes_from_wikipedia()"
   ]
  },
  {
   "cell_type": "markdown",
   "metadata": {},
   "source": [
    "Now we have fetched the required attributes of the respective movies.\n",
    "\n",
    "This data will also act as our unseen data since we will be classifying these movies in to different genres."
   ]
  },
  {
   "cell_type": "markdown",
   "metadata": {},
   "source": [
    "### A look at newly fetched unseen data"
   ]
  },
  {
   "cell_type": "code",
   "execution_count": 17,
   "metadata": {},
   "outputs": [],
   "source": [
    "unseen_data = pd.read_csv(DATA_DIR+'unseen/unseen_data.csv')"
   ]
  },
  {
   "cell_type": "code",
   "execution_count": 18,
   "metadata": {},
   "outputs": [
    {
     "data": {
      "text/html": [
       "<div>\n",
       "<style scoped>\n",
       "    .dataframe tbody tr th:only-of-type {\n",
       "        vertical-align: middle;\n",
       "    }\n",
       "\n",
       "    .dataframe tbody tr th {\n",
       "        vertical-align: top;\n",
       "    }\n",
       "\n",
       "    .dataframe thead th {\n",
       "        text-align: right;\n",
       "    }\n",
       "</style>\n",
       "<table border=\"1\" class=\"dataframe\">\n",
       "  <thead>\n",
       "    <tr style=\"text-align: right;\">\n",
       "      <th></th>\n",
       "      <th>title</th>\n",
       "      <th>cast</th>\n",
       "      <th>release_year</th>\n",
       "      <th>plot</th>\n",
       "    </tr>\n",
       "  </thead>\n",
       "  <tbody>\n",
       "    <tr>\n",
       "      <td>763</td>\n",
       "      <td>Fast Times at Ridgemont High</td>\n",
       "      <td>\\nSean Penn\\nJennifer Jason Leigh\\nJudge Reinh...</td>\n",
       "      <td>\\nAugust 13, 1982 (1982-08-13)\\n</td>\n",
       "      <td>NABrad Hamilton is a popular senior at Ridgemo...</td>\n",
       "    </tr>\n",
       "    <tr>\n",
       "      <td>764</td>\n",
       "      <td>Stand and Deliver</td>\n",
       "      <td>\\nEdward James Olmos\\nLou Diamond Phillips\\nRo...</td>\n",
       "      <td>\\nFebruary 13, 1988 (1988-02-13) (Miami)\\nMarc...</td>\n",
       "      <td>NAIn the early 1980s, Jaime Escalante becomes ...</td>\n",
       "    </tr>\n",
       "    <tr>\n",
       "      <td>765</td>\n",
       "      <td>Silkwood</td>\n",
       "      <td>\\nMeryl Streep\\nKurt Russell\\nCher\\n</td>\n",
       "      <td>\\nDecember 14, 1983 (1983-12-14)\\n</td>\n",
       "      <td>NAKaren Silkwood, a worker at the Kerr-McGee C...</td>\n",
       "    </tr>\n",
       "    <tr>\n",
       "      <td>766</td>\n",
       "      <td>There's Something About Mary</td>\n",
       "      <td>\\nCameron Diaz\\nMatt Dillon\\nBen Stiller\\nLee ...</td>\n",
       "      <td>\\nJuly 15, 1998 (1998-07-15)\\n</td>\n",
       "      <td>NAIn 1985, 16-year-old high school student The...</td>\n",
       "    </tr>\n",
       "    <tr>\n",
       "      <td>767</td>\n",
       "      <td>Bull Durham</td>\n",
       "      <td>\\nKevin Costner\\nSusan Sarandon\\nTim Robbins\\n...</td>\n",
       "      <td>\\nJune 15, 1988 (1988-06-15)\\n</td>\n",
       "      <td>NAMinor League baseball single-A team the Durh...</td>\n",
       "    </tr>\n",
       "  </tbody>\n",
       "</table>\n",
       "</div>"
      ],
      "text/plain": [
       "                            title  \\\n",
       "763  Fast Times at Ridgemont High   \n",
       "764             Stand and Deliver   \n",
       "765                      Silkwood   \n",
       "766  There's Something About Mary   \n",
       "767                   Bull Durham   \n",
       "\n",
       "                                                  cast  \\\n",
       "763  \\nSean Penn\\nJennifer Jason Leigh\\nJudge Reinh...   \n",
       "764  \\nEdward James Olmos\\nLou Diamond Phillips\\nRo...   \n",
       "765               \\nMeryl Streep\\nKurt Russell\\nCher\\n   \n",
       "766  \\nCameron Diaz\\nMatt Dillon\\nBen Stiller\\nLee ...   \n",
       "767  \\nKevin Costner\\nSusan Sarandon\\nTim Robbins\\n...   \n",
       "\n",
       "                                          release_year  \\\n",
       "763                   \\nAugust 13, 1982 (1982-08-13)\\n   \n",
       "764  \\nFebruary 13, 1988 (1988-02-13) (Miami)\\nMarc...   \n",
       "765                 \\nDecember 14, 1983 (1983-12-14)\\n   \n",
       "766                     \\nJuly 15, 1998 (1998-07-15)\\n   \n",
       "767                     \\nJune 15, 1988 (1988-06-15)\\n   \n",
       "\n",
       "                                                  plot  \n",
       "763  NABrad Hamilton is a popular senior at Ridgemo...  \n",
       "764  NAIn the early 1980s, Jaime Escalante becomes ...  \n",
       "765  NAKaren Silkwood, a worker at the Kerr-McGee C...  \n",
       "766  NAIn 1985, 16-year-old high school student The...  \n",
       "767  NAMinor League baseball single-A team the Durh...  "
      ]
     },
     "execution_count": 18,
     "metadata": {},
     "output_type": "execute_result"
    }
   ],
   "source": [
    "unseen_data.tail()"
   ]
  },
  {
   "cell_type": "markdown",
   "metadata": {},
   "source": [
    "<hr style=\"height:1px;border:none;color:#333;background-color:#333;\" />\n"
   ]
  },
  {
   "cell_type": "markdown",
   "metadata": {},
   "source": [
    "## Step 2\n",
    "\n",
    "```\n",
    "Classify the scraped pages into 6 genres listed below by using the text in the wikipedia pages using \n",
    "any Model or mathematical method i.e. the text in the wikipedia page should be the basis of classification.\n",
    "\n",
    "Romance\n",
    "Action\n",
    "Suspense\n",
    "Horror\n",
    "Science Fiction\n",
    "Others\n",
    "\n",
    "```"
   ]
  },
  {
   "cell_type": "markdown",
   "metadata": {},
   "source": [
    "> To solve this problem, I will be using supervised machine learning, by training learning algorithms on labelled data. The learning algorithm will be of classifier nature."
   ]
  },
  {
   "cell_type": "markdown",
   "metadata": {},
   "source": [
    "**Problem** - To train a classifier to be able to classify movies based on text into the above mentioned genres, I will be needing labelled data.\n",
    "\n",
    "**Solution** - I have collected and merged data from multiple online available repositories to generate my own labelled training data.\n",
    "\n",
    "The links to various repositories used to create training data are as followed:\n",
    "\n",
    "- [CMU Movie Corpus](http://www.cs.cmu.edu/~ark/personas/)\n",
    "- [Kaggle Movie Data](https://www.kaggle.com/lokkagle/movie-genre-data)\n",
    "- [Wikipedia Movie Plots](https://www.kaggle.com/jrobischon/wikipedia-movie-plots)\n",
    "\n",
    "\n",
    "The raw data downloaded from the above mentioned links is stored under ```../data/train/raw/```\n",
    "\n",
    "---\n",
    "\n",
    "* I have written a script, stored under ```../modules/prepare_training_data.py ```to aggregate all these datasets by filtering out unneccesary data points and keeping only what's required."
   ]
  },
  {
   "cell_type": "markdown",
   "metadata": {},
   "source": [
    "### Step 2 - Part 1\n",
    "\n",
    "> Preparing training data"
   ]
  },
  {
   "cell_type": "code",
   "execution_count": 19,
   "metadata": {},
   "outputs": [
    {
     "name": "stdout",
     "output_type": "stream",
     "text": [
      "42303it [00:01, 28541.99it/s]\n",
      "100%|█████████████████████████████████| 42303/42303 [00:00<00:00, 993185.76it/s]\n"
     ]
    }
   ],
   "source": [
    "!python3 ../modules/prepare_training_data.py"
   ]
  },
  {
   "cell_type": "markdown",
   "metadata": {},
   "source": [
    "<hr style=\"height:1px;border:none;color:#333;background-color:#333;\" />"
   ]
  },
  {
   "cell_type": "markdown",
   "metadata": {},
   "source": [
    "<h2 style=\"text-align:center\">Training Data Overview</h2>"
   ]
  },
  {
   "cell_type": "markdown",
   "metadata": {},
   "source": [
    "> The processed training data is stored under ``` ../data/train/processed/train_data.csv ```"
   ]
  },
  {
   "cell_type": "markdown",
   "metadata": {},
   "source": [
    "## Exploratory Data Analysis\n",
    "---"
   ]
  },
  {
   "cell_type": "code",
   "execution_count": 20,
   "metadata": {},
   "outputs": [],
   "source": [
    "train_data = pd.read_csv(DATA_DIR+'train/processed/train_data.csv')"
   ]
  },
  {
   "cell_type": "code",
   "execution_count": 21,
   "metadata": {},
   "outputs": [
    {
     "data": {
      "text/plain": [
       "(7979, 5)"
      ]
     },
     "execution_count": 21,
     "metadata": {},
     "output_type": "execute_result"
    }
   ],
   "source": [
    "train_data.shape"
   ]
  },
  {
   "cell_type": "code",
   "execution_count": 22,
   "metadata": {},
   "outputs": [
    {
     "data": {
      "text/html": [
       "<div>\n",
       "<style scoped>\n",
       "    .dataframe tbody tr th:only-of-type {\n",
       "        vertical-align: middle;\n",
       "    }\n",
       "\n",
       "    .dataframe tbody tr th {\n",
       "        vertical-align: top;\n",
       "    }\n",
       "\n",
       "    .dataframe thead th {\n",
       "        text-align: right;\n",
       "    }\n",
       "</style>\n",
       "<table border=\"1\" class=\"dataframe\">\n",
       "  <thead>\n",
       "    <tr style=\"text-align: right;\">\n",
       "      <th></th>\n",
       "      <th>Cast</th>\n",
       "      <th>Genre</th>\n",
       "      <th>Plot</th>\n",
       "      <th>Release Year</th>\n",
       "      <th>Title</th>\n",
       "    </tr>\n",
       "  </thead>\n",
       "  <tbody>\n",
       "    <tr>\n",
       "      <td>0</td>\n",
       "      <td>NaN</td>\n",
       "      <td>action</td>\n",
       "      <td>The film features a train traveling through th...</td>\n",
       "      <td>1906</td>\n",
       "      <td>From Leadville to Aspen: A Hold-Up in the Rockies</td>\n",
       "    </tr>\n",
       "    <tr>\n",
       "      <td>1</td>\n",
       "      <td>Charles Inslee</td>\n",
       "      <td>others</td>\n",
       "      <td>A white girl (Florence Lawrence) rejects a pro...</td>\n",
       "      <td>1908</td>\n",
       "      <td>The Call of the Wild</td>\n",
       "    </tr>\n",
       "    <tr>\n",
       "      <td>2</td>\n",
       "      <td>James Cruze</td>\n",
       "      <td>horror</td>\n",
       "      <td>White-haired Dr. Jekyll has secretly locked hi...</td>\n",
       "      <td>1912</td>\n",
       "      <td>Dr. Jekyll and Mr. Hyde</td>\n",
       "    </tr>\n",
       "    <tr>\n",
       "      <td>3</td>\n",
       "      <td>King Baggot</td>\n",
       "      <td>horror</td>\n",
       "      <td>Dr. Henry Jekyll (King Baggot) sends a note to...</td>\n",
       "      <td>1913</td>\n",
       "      <td>Dr. Jekyll and Mr. Hyde</td>\n",
       "    </tr>\n",
       "    <tr>\n",
       "      <td>4</td>\n",
       "      <td>William Garwood, Marie Eline</td>\n",
       "      <td>others</td>\n",
       "      <td>The Evidence of the Film tells the story of a ...</td>\n",
       "      <td>1913</td>\n",
       "      <td>The Evidence of the Film</td>\n",
       "    </tr>\n",
       "  </tbody>\n",
       "</table>\n",
       "</div>"
      ],
      "text/plain": [
       "                           Cast   Genre  \\\n",
       "0                           NaN  action   \n",
       "1                Charles Inslee  others   \n",
       "2                   James Cruze  horror   \n",
       "3                   King Baggot  horror   \n",
       "4  William Garwood, Marie Eline  others   \n",
       "\n",
       "                                                Plot Release Year  \\\n",
       "0  The film features a train traveling through th...         1906   \n",
       "1  A white girl (Florence Lawrence) rejects a pro...         1908   \n",
       "2  White-haired Dr. Jekyll has secretly locked hi...         1912   \n",
       "3  Dr. Henry Jekyll (King Baggot) sends a note to...         1913   \n",
       "4  The Evidence of the Film tells the story of a ...         1913   \n",
       "\n",
       "                                               Title  \n",
       "0  From Leadville to Aspen: A Hold-Up in the Rockies  \n",
       "1                               The Call of the Wild  \n",
       "2                            Dr. Jekyll and Mr. Hyde  \n",
       "3                            Dr. Jekyll and Mr. Hyde  \n",
       "4                           The Evidence of the Film  "
      ]
     },
     "execution_count": 22,
     "metadata": {},
     "output_type": "execute_result"
    }
   ],
   "source": [
    "train_data.head()"
   ]
  },
  {
   "cell_type": "markdown",
   "metadata": {},
   "source": [
    "#### Example data point"
   ]
  },
  {
   "cell_type": "code",
   "execution_count": 23,
   "metadata": {},
   "outputs": [
    {
     "name": "stdout",
     "output_type": "stream",
     "text": [
      "Cast\n",
      "William Garwood, Marie Eline\n",
      "----------------------------------------------------------------------------------------------------\n",
      "Genre\n",
      "others\n",
      "----------------------------------------------------------------------------------------------------\n",
      "Plot\n",
      "The Evidence of the Film tells the story of a messenger boy at a film studio who is wrongfully accused of stealing bonds worth $20,000. He is saved by his sister, a film cutter, who comes across some footage of her brother inadvertently walking into a location shot and being knocked down by the real-life villain.\n",
      "----------------------------------------------------------------------------------------------------\n",
      "Release Year\n",
      "1913\n",
      "----------------------------------------------------------------------------------------------------\n",
      "Title\n",
      "The Evidence of the Film\n"
     ]
    }
   ],
   "source": [
    "print(\"Cast\\n{}\".format(train_data.iloc[4].Cast))\n",
    "print(\"-\"*100)\n",
    "print(\"Genre\\n{}\".format(train_data.iloc[4].Genre))\n",
    "print(\"-\"*100)\n",
    "print(\"Plot\\n{}\".format(train_data.iloc[4].Plot))\n",
    "print(\"-\"*100)\n",
    "print(\"Release Year\\n{}\".format(train_data.iloc[4]['Release Year']))\n",
    "print(\"-\"*100)\n",
    "print(\"Title\\n{}\".format(train_data.iloc[4].Title))"
   ]
  },
  {
   "cell_type": "markdown",
   "metadata": {},
   "source": [
    "### Checking the frequency of genres"
   ]
  },
  {
   "cell_type": "code",
   "execution_count": 24,
   "metadata": {},
   "outputs": [
    {
     "data": {
      "text/plain": [
       "<matplotlib.axes._subplots.AxesSubplot at 0x7fb470aed310>"
      ]
     },
     "execution_count": 24,
     "metadata": {},
     "output_type": "execute_result"
    },
    {
     "data": {
      "image/png": "[encoded data removed]",
      "text/plain": [
       "<Figure size 1080x504 with 1 Axes>"
      ]
     },
     "metadata": {
      "needs_background": "light"
     },
     "output_type": "display_data"
    }
   ],
   "source": [
    "plt.figure(figsize=(15,7)) \n",
    "sns.countplot(train_data.Genre)"
   ]
  },
  {
   "cell_type": "markdown",
   "metadata": {},
   "source": [
    "> Since we will not be using a movies' Year of Release, Cast, and Title to train our learning algorithms because these attributes do not supply any information for the genre of the movie. We will be dropping these attributes."
   ]
  },
  {
   "cell_type": "code",
   "execution_count": 25,
   "metadata": {},
   "outputs": [
    {
     "data": {
      "text/html": [
       "<div>\n",
       "<style scoped>\n",
       "    .dataframe tbody tr th:only-of-type {\n",
       "        vertical-align: middle;\n",
       "    }\n",
       "\n",
       "    .dataframe tbody tr th {\n",
       "        vertical-align: top;\n",
       "    }\n",
       "\n",
       "    .dataframe thead th {\n",
       "        text-align: right;\n",
       "    }\n",
       "</style>\n",
       "<table border=\"1\" class=\"dataframe\">\n",
       "  <thead>\n",
       "    <tr style=\"text-align: right;\">\n",
       "      <th></th>\n",
       "      <th>Cast</th>\n",
       "      <th>Genre</th>\n",
       "      <th>Plot</th>\n",
       "      <th>Release Year</th>\n",
       "      <th>Title</th>\n",
       "    </tr>\n",
       "  </thead>\n",
       "  <tbody>\n",
       "    <tr>\n",
       "      <td>0</td>\n",
       "      <td>NaN</td>\n",
       "      <td>action</td>\n",
       "      <td>The film features a train traveling through th...</td>\n",
       "      <td>1906</td>\n",
       "      <td>From Leadville to Aspen: A Hold-Up in the Rockies</td>\n",
       "    </tr>\n",
       "    <tr>\n",
       "      <td>1</td>\n",
       "      <td>Charles Inslee</td>\n",
       "      <td>others</td>\n",
       "      <td>A white girl (Florence Lawrence) rejects a pro...</td>\n",
       "      <td>1908</td>\n",
       "      <td>The Call of the Wild</td>\n",
       "    </tr>\n",
       "    <tr>\n",
       "      <td>2</td>\n",
       "      <td>James Cruze</td>\n",
       "      <td>horror</td>\n",
       "      <td>White-haired Dr. Jekyll has secretly locked hi...</td>\n",
       "      <td>1912</td>\n",
       "      <td>Dr. Jekyll and Mr. Hyde</td>\n",
       "    </tr>\n",
       "    <tr>\n",
       "      <td>3</td>\n",
       "      <td>King Baggot</td>\n",
       "      <td>horror</td>\n",
       "      <td>Dr. Henry Jekyll (King Baggot) sends a note to...</td>\n",
       "      <td>1913</td>\n",
       "      <td>Dr. Jekyll and Mr. Hyde</td>\n",
       "    </tr>\n",
       "    <tr>\n",
       "      <td>4</td>\n",
       "      <td>William Garwood, Marie Eline</td>\n",
       "      <td>others</td>\n",
       "      <td>The Evidence of the Film tells the story of a ...</td>\n",
       "      <td>1913</td>\n",
       "      <td>The Evidence of the Film</td>\n",
       "    </tr>\n",
       "  </tbody>\n",
       "</table>\n",
       "</div>"
      ],
      "text/plain": [
       "                           Cast   Genre  \\\n",
       "0                           NaN  action   \n",
       "1                Charles Inslee  others   \n",
       "2                   James Cruze  horror   \n",
       "3                   King Baggot  horror   \n",
       "4  William Garwood, Marie Eline  others   \n",
       "\n",
       "                                                Plot Release Year  \\\n",
       "0  The film features a train traveling through th...         1906   \n",
       "1  A white girl (Florence Lawrence) rejects a pro...         1908   \n",
       "2  White-haired Dr. Jekyll has secretly locked hi...         1912   \n",
       "3  Dr. Henry Jekyll (King Baggot) sends a note to...         1913   \n",
       "4  The Evidence of the Film tells the story of a ...         1913   \n",
       "\n",
       "                                               Title  \n",
       "0  From Leadville to Aspen: A Hold-Up in the Rockies  \n",
       "1                               The Call of the Wild  \n",
       "2                            Dr. Jekyll and Mr. Hyde  \n",
       "3                            Dr. Jekyll and Mr. Hyde  \n",
       "4                           The Evidence of the Film  "
      ]
     },
     "execution_count": 25,
     "metadata": {},
     "output_type": "execute_result"
    }
   ],
   "source": [
    "train_data.head()"
   ]
  },
  {
   "cell_type": "code",
   "execution_count": 26,
   "metadata": {},
   "outputs": [],
   "source": [
    "train_data.drop(columns=['Cast','Title','Release Year'],axis=1,inplace=True)"
   ]
  },
  {
   "cell_type": "code",
   "execution_count": 27,
   "metadata": {},
   "outputs": [
    {
     "data": {
      "text/html": [
       "<div>\n",
       "<style scoped>\n",
       "    .dataframe tbody tr th:only-of-type {\n",
       "        vertical-align: middle;\n",
       "    }\n",
       "\n",
       "    .dataframe tbody tr th {\n",
       "        vertical-align: top;\n",
       "    }\n",
       "\n",
       "    .dataframe thead th {\n",
       "        text-align: right;\n",
       "    }\n",
       "</style>\n",
       "<table border=\"1\" class=\"dataframe\">\n",
       "  <thead>\n",
       "    <tr style=\"text-align: right;\">\n",
       "      <th></th>\n",
       "      <th>Genre</th>\n",
       "      <th>Plot</th>\n",
       "    </tr>\n",
       "  </thead>\n",
       "  <tbody>\n",
       "    <tr>\n",
       "      <td>0</td>\n",
       "      <td>action</td>\n",
       "      <td>The film features a train traveling through th...</td>\n",
       "    </tr>\n",
       "    <tr>\n",
       "      <td>1</td>\n",
       "      <td>others</td>\n",
       "      <td>A white girl (Florence Lawrence) rejects a pro...</td>\n",
       "    </tr>\n",
       "    <tr>\n",
       "      <td>2</td>\n",
       "      <td>horror</td>\n",
       "      <td>White-haired Dr. Jekyll has secretly locked hi...</td>\n",
       "    </tr>\n",
       "    <tr>\n",
       "      <td>3</td>\n",
       "      <td>horror</td>\n",
       "      <td>Dr. Henry Jekyll (King Baggot) sends a note to...</td>\n",
       "    </tr>\n",
       "    <tr>\n",
       "      <td>4</td>\n",
       "      <td>others</td>\n",
       "      <td>The Evidence of the Film tells the story of a ...</td>\n",
       "    </tr>\n",
       "  </tbody>\n",
       "</table>\n",
       "</div>"
      ],
      "text/plain": [
       "    Genre                                               Plot\n",
       "0  action  The film features a train traveling through th...\n",
       "1  others  A white girl (Florence Lawrence) rejects a pro...\n",
       "2  horror  White-haired Dr. Jekyll has secretly locked hi...\n",
       "3  horror  Dr. Henry Jekyll (King Baggot) sends a note to...\n",
       "4  others  The Evidence of the Film tells the story of a ..."
      ]
     },
     "execution_count": 27,
     "metadata": {},
     "output_type": "execute_result"
    }
   ],
   "source": [
    "train_data.head()"
   ]
  },
  {
   "cell_type": "code",
   "execution_count": 28,
   "metadata": {},
   "outputs": [
    {
     "data": {
      "text/plain": [
       "Genre    0\n",
       "Plot     0\n",
       "dtype: int64"
      ]
     },
     "execution_count": 28,
     "metadata": {},
     "output_type": "execute_result"
    }
   ],
   "source": [
    "train_data.isna().sum()"
   ]
  },
  {
   "cell_type": "markdown",
   "metadata": {},
   "source": [
    "> We do not have any NA values in the data."
   ]
  },
  {
   "cell_type": "code",
   "execution_count": 29,
   "metadata": {},
   "outputs": [
    {
     "data": {
      "text/plain": [
       "Genre    0\n",
       "Plot     0\n",
       "dtype: int64"
      ]
     },
     "execution_count": 29,
     "metadata": {},
     "output_type": "execute_result"
    }
   ],
   "source": [
    "train_data.isnull().sum()"
   ]
  },
  {
   "cell_type": "markdown",
   "metadata": {},
   "source": [
    "> Neither we have any Null values in the data."
   ]
  },
  {
   "cell_type": "markdown",
   "metadata": {},
   "source": [
    "## Cleaning and Text Preprocessing"
   ]
  },
  {
   "cell_type": "code",
   "execution_count": 30,
   "metadata": {},
   "outputs": [
    {
     "name": "stderr",
     "output_type": "stream",
     "text": [
      "[nltk_data] Downloading package stopwords to\n",
      "[nltk_data]     /Users/samarsrivastava/nltk_data...\n",
      "[nltk_data]   Package stopwords is already up-to-date!\n"
     ]
    },
    {
     "data": {
      "text/plain": [
       "True"
      ]
     },
     "execution_count": 30,
     "metadata": {},
     "output_type": "execute_result"
    }
   ],
   "source": [
    "import nltk\n",
    "nltk.download('stopwords')"
   ]
  },
  {
   "cell_type": "markdown",
   "metadata": {},
   "source": [
    "> I will be using very basic cleaning methods as the data is scraped from Wikipedia pages of movies, I don't expect html tags or any other special characters except, dashes, backslash apostrophes, extra white spaces. Also I will be normalizing the words into lower case in order to keep the feature space tight and restricted."
   ]
  },
  {
   "cell_type": "markdown",
   "metadata": {},
   "source": [
    "\n",
    "---\n",
    "\n",
    "<h4 style=\"color:red\">A data point before cleaning.</h4>"
   ]
  },
  {
   "cell_type": "code",
   "execution_count": 31,
   "metadata": {},
   "outputs": [
    {
     "data": {
      "text/plain": [
       "'The Evidence of the Film tells the story of a messenger boy at a film studio who is wrongfully accused of stealing bonds worth $20,000. He is saved by his sister, a film cutter, who comes across some footage of her brother inadvertently walking into a location shot and being knocked down by the real-life villain.'"
      ]
     },
     "execution_count": 31,
     "metadata": {},
     "output_type": "execute_result"
    }
   ],
   "source": [
    "train_data.Plot[4]"
   ]
  },
  {
   "cell_type": "code",
   "execution_count": 32,
   "metadata": {},
   "outputs": [
    {
     "data": {
      "text/plain": [
       "{'Total Characters': 314,\n",
       " 'Special Characters': 62,\n",
       " 'Numbers': 5,\n",
       " 'Letters': 247,\n",
       " 'Others': 62}"
      ]
     },
     "execution_count": 32,
     "metadata": {},
     "output_type": "execute_result"
    }
   ],
   "source": [
    "import re\n",
    "x = train_data.Plot[4]\n",
    "temp_dict = {}\n",
    "special_chars = re.sub('[\\w]+' ,'',x)\n",
    "numbers = sum(char.isdigit() for char in x)\n",
    "letters = sum(char.isalpha() for char in x)\n",
    "others  = len(x) - numbers - letters\n",
    "temp_dict['Total Characters'] = len(x)\n",
    "temp_dict['Special Characters'] = len(special_chars)\n",
    "temp_dict['Numbers'] = numbers\n",
    "temp_dict['Letters'] = letters\n",
    "temp_dict['Others'] = others\n",
    "temp_dict        \n",
    "    "
   ]
  },
  {
   "cell_type": "code",
   "execution_count": 33,
   "metadata": {},
   "outputs": [],
   "source": [
    "def clean_text(text):\n",
    "    text = re.sub(\"\\'\", \"\", text) #Removing backslashes\n",
    "    text = re.sub(\"[^a-zA-Z]\",\" \",text) #Keeping english alphabets only\n",
    "    text = ' '.join(text.split()) #Striping extra white-spaces\n",
    "    text = text.lower() #Normalizing text\n",
    "    return text"
   ]
  },
  {
   "cell_type": "code",
   "execution_count": 34,
   "metadata": {},
   "outputs": [],
   "source": [
    "train_data['plot_cleaned'] = train_data.Plot.apply(lambda x: clean_text(x))"
   ]
  },
  {
   "cell_type": "markdown",
   "metadata": {},
   "source": [
    "\n",
    "---\n",
    "\n",
    "<h4 style=\"color:green\">A data point after cleaning.</h4>"
   ]
  },
  {
   "cell_type": "code",
   "execution_count": 35,
   "metadata": {},
   "outputs": [
    {
     "data": {
      "text/plain": [
       "'the evidence of the film tells the story of a messenger boy at a film studio who is wrongfully accused of stealing bonds worth he is saved by his sister a film cutter who comes across some footage of her brother inadvertently walking into a location shot and being knocked down by the real life villain'"
      ]
     },
     "execution_count": 35,
     "metadata": {},
     "output_type": "execute_result"
    }
   ],
   "source": [
    "train_data.plot_cleaned[4]"
   ]
  },
  {
   "cell_type": "code",
   "execution_count": 36,
   "metadata": {},
   "outputs": [
    {
     "data": {
      "text/plain": [
       "{'Total Characters': 302,\n",
       " 'Special Characters': 55,\n",
       " 'Numbers': 0,\n",
       " 'Letters': 247,\n",
       " 'Others': 55}"
      ]
     },
     "execution_count": 36,
     "metadata": {},
     "output_type": "execute_result"
    }
   ],
   "source": [
    "import re\n",
    "y = train_data.plot_cleaned[4]\n",
    "temp_dict = {}\n",
    "special_chars = re.sub('[\\w]+' ,'',y)\n",
    "numbers = sum(char.isdigit() for char in y)\n",
    "letters = sum(char.isalpha() for char in y)\n",
    "others  = len(y) - numbers - letters\n",
    "temp_dict['Total Characters'] = len(y)\n",
    "temp_dict['Special Characters'] = len(special_chars)\n",
    "temp_dict['Numbers'] = numbers\n",
    "temp_dict['Letters'] = letters\n",
    "temp_dict['Others'] = others\n",
    "temp_dict        \n",
    "    "
   ]
  },
  {
   "cell_type": "markdown",
   "metadata": {},
   "source": [
    "> The 55 special characters and spaces that we see are spaces between words."
   ]
  },
  {
   "cell_type": "markdown",
   "metadata": {},
   "source": [
    "**Quick look at the data again**"
   ]
  },
  {
   "cell_type": "code",
   "execution_count": 37,
   "metadata": {},
   "outputs": [
    {
     "data": {
      "text/html": [
       "<div>\n",
       "<style scoped>\n",
       "    .dataframe tbody tr th:only-of-type {\n",
       "        vertical-align: middle;\n",
       "    }\n",
       "\n",
       "    .dataframe tbody tr th {\n",
       "        vertical-align: top;\n",
       "    }\n",
       "\n",
       "    .dataframe thead th {\n",
       "        text-align: right;\n",
       "    }\n",
       "</style>\n",
       "<table border=\"1\" class=\"dataframe\">\n",
       "  <thead>\n",
       "    <tr style=\"text-align: right;\">\n",
       "      <th></th>\n",
       "      <th>Genre</th>\n",
       "      <th>Plot</th>\n",
       "      <th>plot_cleaned</th>\n",
       "    </tr>\n",
       "  </thead>\n",
       "  <tbody>\n",
       "    <tr>\n",
       "      <td>0</td>\n",
       "      <td>action</td>\n",
       "      <td>The film features a train traveling through th...</td>\n",
       "      <td>the film features a train traveling through th...</td>\n",
       "    </tr>\n",
       "    <tr>\n",
       "      <td>1</td>\n",
       "      <td>others</td>\n",
       "      <td>A white girl (Florence Lawrence) rejects a pro...</td>\n",
       "      <td>a white girl florence lawrence rejects a propo...</td>\n",
       "    </tr>\n",
       "    <tr>\n",
       "      <td>2</td>\n",
       "      <td>horror</td>\n",
       "      <td>White-haired Dr. Jekyll has secretly locked hi...</td>\n",
       "      <td>white haired dr jekyll has secretly locked him...</td>\n",
       "    </tr>\n",
       "    <tr>\n",
       "      <td>3</td>\n",
       "      <td>horror</td>\n",
       "      <td>Dr. Henry Jekyll (King Baggot) sends a note to...</td>\n",
       "      <td>dr henry jekyll king baggot sends a note to hi...</td>\n",
       "    </tr>\n",
       "    <tr>\n",
       "      <td>4</td>\n",
       "      <td>others</td>\n",
       "      <td>The Evidence of the Film tells the story of a ...</td>\n",
       "      <td>the evidence of the film tells the story of a ...</td>\n",
       "    </tr>\n",
       "  </tbody>\n",
       "</table>\n",
       "</div>"
      ],
      "text/plain": [
       "    Genre                                               Plot  \\\n",
       "0  action  The film features a train traveling through th...   \n",
       "1  others  A white girl (Florence Lawrence) rejects a pro...   \n",
       "2  horror  White-haired Dr. Jekyll has secretly locked hi...   \n",
       "3  horror  Dr. Henry Jekyll (King Baggot) sends a note to...   \n",
       "4  others  The Evidence of the Film tells the story of a ...   \n",
       "\n",
       "                                        plot_cleaned  \n",
       "0  the film features a train traveling through th...  \n",
       "1  a white girl florence lawrence rejects a propo...  \n",
       "2  white haired dr jekyll has secretly locked him...  \n",
       "3  dr henry jekyll king baggot sends a note to hi...  \n",
       "4  the evidence of the film tells the story of a ...  "
      ]
     },
     "execution_count": 37,
     "metadata": {},
     "output_type": "execute_result"
    }
   ],
   "source": [
    "train_data.head()"
   ]
  },
  {
   "cell_type": "code",
   "execution_count": 38,
   "metadata": {},
   "outputs": [
    {
     "data": {
      "text/plain": [
       "'dr henry jekyll king baggot sends a note to his fianc e alice jane gail and her father matt b snyder to say that instead of accompanying them to the opera he must give more time to his charity patients at jekyll s practice his friends dr lanyon howard crampton and utterson william sorrel a lawyer ridicule him for what they consider his dangerous research alice and her father also visit jekyll s rooms but although apologetic the doctor insists on devoting his time to his patients that night however jekyll undertakes a dangerous experiment swallowing a drug intended to releases his evil self his body convulses and he transforms into a hunched twisted figure the strange creature emerges from jekyll s room bearing a note in jekyll s handwriting that orders the household staff to treat the stranger mr hyde as himself hyde then slips out into the night terrorising the patrons of a nearby tavern before finding himself lodgings from these rooms he begins a career of evil until one night he attacks and injures a crippled child outraged witnesses corner hyde and force him to agree to compensate the boy hyde reluctantly leads one man back to jekyll s house and gives him money during this passage of events a worried dr utterson sees hyde entering jekyll s house inside hyde takes a potion that transforms him back to jekyll the doctor swears that he will abandon his experiments and never tempt fate again but that night without taking the drug he turns spontaneously into hyde'"
      ]
     },
     "execution_count": 38,
     "metadata": {},
     "output_type": "execute_result"
    }
   ],
   "source": [
    "train_data.plot_cleaned[3]"
   ]
  },
  {
   "cell_type": "markdown",
   "metadata": {},
   "source": [
    "### Visualization of most frequent words in movie plots"
   ]
  },
  {
   "cell_type": "code",
   "execution_count": 39,
   "metadata": {},
   "outputs": [
    {
     "data": {
      "image/png": "[encoded data removed]",
      "text/plain": [
       "<Figure size 864x1080 with 1 Axes>"
      ]
     },
     "metadata": {
      "needs_background": "light"
     },
     "output_type": "display_data"
    }
   ],
   "source": [
    "def freq_words(x, terms = 30): \n",
    "  all_words = ' '.join([text for text in x]) \n",
    "  all_words = all_words.split() \n",
    "  fdist = nltk.FreqDist(all_words) \n",
    "  words_df = pd.DataFrame({'word':list(fdist.keys()), 'count':list(fdist.values())}) \n",
    "  \n",
    "  # selecting top 20 most frequent words \n",
    "  d = words_df.nlargest(columns=\"count\", n = terms) \n",
    "  \n",
    "  # visualize words and frequencies\n",
    "  plt.figure(figsize=(12,15)) \n",
    "  ax = sns.barplot(data=d, x= \"count\", y = \"word\") \n",
    "  ax.set(ylabel = 'Word') \n",
    "  plt.show()\n",
    "  \n",
    "# print 100 most frequent words \n",
    "freq_words(train_data.plot_cleaned, 100)"
   ]
  },
  {
   "cell_type": "markdown",
   "metadata": {},
   "source": [
    "> As expected, the word ``` the ``` is the most frequent word in movie plots. Supports the hypothesis of English language."
   ]
  },
  {
   "cell_type": "markdown",
   "metadata": {},
   "source": [
    "### Removing stopwords and performing stemming\n",
    "\n",
    "> Since stop words don't really add any meaning to a sentence. For this task we will be removing them."
   ]
  },
  {
   "cell_type": "code",
   "execution_count": 40,
   "metadata": {},
   "outputs": [],
   "source": [
    "train_data.drop(columns=['Plot'],axis=1,inplace=True)"
   ]
  },
  {
   "cell_type": "code",
   "execution_count": 41,
   "metadata": {},
   "outputs": [
    {
     "data": {
      "text/html": [
       "<div>\n",
       "<style scoped>\n",
       "    .dataframe tbody tr th:only-of-type {\n",
       "        vertical-align: middle;\n",
       "    }\n",
       "\n",
       "    .dataframe tbody tr th {\n",
       "        vertical-align: top;\n",
       "    }\n",
       "\n",
       "    .dataframe thead th {\n",
       "        text-align: right;\n",
       "    }\n",
       "</style>\n",
       "<table border=\"1\" class=\"dataframe\">\n",
       "  <thead>\n",
       "    <tr style=\"text-align: right;\">\n",
       "      <th></th>\n",
       "      <th>Genre</th>\n",
       "      <th>plot_cleaned</th>\n",
       "    </tr>\n",
       "  </thead>\n",
       "  <tbody>\n",
       "    <tr>\n",
       "      <td>0</td>\n",
       "      <td>action</td>\n",
       "      <td>the film features a train traveling through th...</td>\n",
       "    </tr>\n",
       "    <tr>\n",
       "      <td>1</td>\n",
       "      <td>others</td>\n",
       "      <td>a white girl florence lawrence rejects a propo...</td>\n",
       "    </tr>\n",
       "    <tr>\n",
       "      <td>2</td>\n",
       "      <td>horror</td>\n",
       "      <td>white haired dr jekyll has secretly locked him...</td>\n",
       "    </tr>\n",
       "    <tr>\n",
       "      <td>3</td>\n",
       "      <td>horror</td>\n",
       "      <td>dr henry jekyll king baggot sends a note to hi...</td>\n",
       "    </tr>\n",
       "    <tr>\n",
       "      <td>4</td>\n",
       "      <td>others</td>\n",
       "      <td>the evidence of the film tells the story of a ...</td>\n",
       "    </tr>\n",
       "  </tbody>\n",
       "</table>\n",
       "</div>"
      ],
      "text/plain": [
       "    Genre                                       plot_cleaned\n",
       "0  action  the film features a train traveling through th...\n",
       "1  others  a white girl florence lawrence rejects a propo...\n",
       "2  horror  white haired dr jekyll has secretly locked him...\n",
       "3  horror  dr henry jekyll king baggot sends a note to hi...\n",
       "4  others  the evidence of the film tells the story of a ..."
      ]
     },
     "execution_count": 41,
     "metadata": {},
     "output_type": "execute_result"
    }
   ],
   "source": [
    "train_data.head()"
   ]
  },
  {
   "cell_type": "code",
   "execution_count": 42,
   "metadata": {},
   "outputs": [],
   "source": [
    "from nltk.corpus import stopwords\n",
    "stop_words = set(stopwords.words('english'))\n",
    "\n",
    "def remove_stopwords(text):\n",
    "    no_stopword_text = [w for w in text.split() if not w in stop_words]\n",
    "    return ' '.join(no_stopword_text)\n",
    "\n",
    "train_data['plot_cleaned'] = train_data['plot_cleaned'].apply(lambda x: remove_stopwords(x))"
   ]
  },
  {
   "cell_type": "code",
   "execution_count": 44,
   "metadata": {},
   "outputs": [
    {
     "data": {
      "text/html": [
       "<div>\n",
       "<style scoped>\n",
       "    .dataframe tbody tr th:only-of-type {\n",
       "        vertical-align: middle;\n",
       "    }\n",
       "\n",
       "    .dataframe tbody tr th {\n",
       "        vertical-align: top;\n",
       "    }\n",
       "\n",
       "    .dataframe thead th {\n",
       "        text-align: right;\n",
       "    }\n",
       "</style>\n",
       "<table border=\"1\" class=\"dataframe\">\n",
       "  <thead>\n",
       "    <tr style=\"text-align: right;\">\n",
       "      <th></th>\n",
       "      <th>Genre</th>\n",
       "      <th>plot_cleaned</th>\n",
       "    </tr>\n",
       "  </thead>\n",
       "  <tbody>\n",
       "    <tr>\n",
       "      <td>0</td>\n",
       "      <td>action</td>\n",
       "      <td>film features train traveling rockies hold cre...</td>\n",
       "    </tr>\n",
       "    <tr>\n",
       "      <td>1</td>\n",
       "      <td>others</td>\n",
       "      <td>white girl florence lawrence rejects proposal ...</td>\n",
       "    </tr>\n",
       "    <tr>\n",
       "      <td>2</td>\n",
       "      <td>horror</td>\n",
       "      <td>white haired dr jekyll secretly locked laborat...</td>\n",
       "    </tr>\n",
       "    <tr>\n",
       "      <td>3</td>\n",
       "      <td>horror</td>\n",
       "      <td>dr henry jekyll king baggot sends note fianc e...</td>\n",
       "    </tr>\n",
       "    <tr>\n",
       "      <td>4</td>\n",
       "      <td>others</td>\n",
       "      <td>evidence film tells story messenger boy film s...</td>\n",
       "    </tr>\n",
       "  </tbody>\n",
       "</table>\n",
       "</div>"
      ],
      "text/plain": [
       "    Genre                                       plot_cleaned\n",
       "0  action  film features train traveling rockies hold cre...\n",
       "1  others  white girl florence lawrence rejects proposal ...\n",
       "2  horror  white haired dr jekyll secretly locked laborat...\n",
       "3  horror  dr henry jekyll king baggot sends note fianc e...\n",
       "4  others  evidence film tells story messenger boy film s..."
      ]
     },
     "execution_count": 44,
     "metadata": {},
     "output_type": "execute_result"
    }
   ],
   "source": [
    "train_data.head()"
   ]
  },
  {
   "cell_type": "code",
   "execution_count": 45,
   "metadata": {},
   "outputs": [],
   "source": [
    "def stem_corpus(text):\n",
    "    stemmer = SnowballStemmer(\"english\")\n",
    "    return stemmer.stem(text)\n",
    "train_data['plot_cleaned'] = train_data['plot_cleaned'].apply(lambda x: stem_corpus(x))"
   ]
  },
  {
   "cell_type": "code",
   "execution_count": 46,
   "metadata": {},
   "outputs": [
    {
     "data": {
      "text/plain": [
       "'evidence film tells story messenger boy film studio wrongfully accused stealing bonds worth saved sister film cutter comes across footage brother inadvertently walking location shot knocked real life villain'"
      ]
     },
     "execution_count": 46,
     "metadata": {},
     "output_type": "execute_result"
    }
   ],
   "source": [
    "train_data.plot_cleaned[4]"
   ]
  },
  {
   "cell_type": "markdown",
   "metadata": {},
   "source": [
    "### Visualizing frequency of words after common words(stop words) are removed."
   ]
  },
  {
   "cell_type": "code",
   "execution_count": 47,
   "metadata": {},
   "outputs": [
    {
     "data": {
      "image/png": "[encoded data removed]",
      "text/plain": [
       "<Figure size 864x1080 with 1 Axes>"
      ]
     },
     "metadata": {
      "needs_background": "light"
     },
     "output_type": "display_data"
    }
   ],
   "source": [
    "freq_words(train_data['plot_cleaned'], 80)"
   ]
  },
  {
   "cell_type": "markdown",
   "metadata": {},
   "source": [
    "> As we can see, now the most frequent words are not the most common words of English language. Hence now we can get more knowledge out of the Wikipedia text."
   ]
  },
  {
   "cell_type": "markdown",
   "metadata": {},
   "source": [
    "---"
   ]
  },
  {
   "cell_type": "markdown",
   "metadata": {},
   "source": [
    "## Split data into train and test\n",
    "> For evaluation purposes"
   ]
  },
  {
   "cell_type": "code",
   "execution_count": 48,
   "metadata": {},
   "outputs": [],
   "source": [
    "from sklearn.model_selection import train_test_split"
   ]
  },
  {
   "cell_type": "code",
   "execution_count": 49,
   "metadata": {},
   "outputs": [],
   "source": [
    "X_train, X_test, y_train, y_test = train_test_split(train_data['plot_cleaned'],\n",
    "                                                    train_data['Genre'], test_size=0.2, random_state=42)"
   ]
  },
  {
   "cell_type": "code",
   "execution_count": 50,
   "metadata": {},
   "outputs": [
    {
     "data": {
      "text/plain": [
       "(6383,)"
      ]
     },
     "execution_count": 50,
     "metadata": {},
     "output_type": "execute_result"
    }
   ],
   "source": [
    "X_train.shape"
   ]
  },
  {
   "cell_type": "code",
   "execution_count": 51,
   "metadata": {},
   "outputs": [
    {
     "data": {
      "text/plain": [
       "(6383,)"
      ]
     },
     "execution_count": 51,
     "metadata": {},
     "output_type": "execute_result"
    }
   ],
   "source": [
    "y_train.shape"
   ]
  },
  {
   "cell_type": "code",
   "execution_count": 52,
   "metadata": {},
   "outputs": [
    {
     "data": {
      "text/plain": [
       "(1596,)"
      ]
     },
     "execution_count": 52,
     "metadata": {},
     "output_type": "execute_result"
    }
   ],
   "source": [
    "X_test.shape"
   ]
  },
  {
   "cell_type": "code",
   "execution_count": 53,
   "metadata": {},
   "outputs": [
    {
     "data": {
      "text/plain": [
       "(1596,)"
      ]
     },
     "execution_count": 53,
     "metadata": {},
     "output_type": "execute_result"
    }
   ],
   "source": [
    "y_test.shape"
   ]
  },
  {
   "cell_type": "code",
   "execution_count": 54,
   "metadata": {},
   "outputs": [
    {
     "data": {
      "text/plain": [
       "6110    badal bobby deol young man tragic childhood ch...\n",
       "5684    story film deals underworld revolves around am...\n",
       "5503    superintendent wai michael miu organises opera...\n",
       "1488    optimistic psychiatrist dr donovan macleod wan...\n",
       "7808    story aging actress disabled child agrees larg...\n",
       "Name: plot_cleaned, dtype: object"
      ]
     },
     "execution_count": 54,
     "metadata": {},
     "output_type": "execute_result"
    }
   ],
   "source": [
    "X_train.head(5)"
   ]
  },
  {
   "cell_type": "code",
   "execution_count": 55,
   "metadata": {},
   "outputs": [
    {
     "data": {
      "text/plain": [
       "6110             action\n",
       "5684           suspense\n",
       "5503             others\n",
       "1488           suspense\n",
       "7808    science fiction\n",
       "Name: Genre, dtype: object"
      ]
     },
     "execution_count": 55,
     "metadata": {},
     "output_type": "execute_result"
    }
   ],
   "source": [
    "y_train.head(5)"
   ]
  },
  {
   "cell_type": "code",
   "execution_count": 56,
   "metadata": {},
   "outputs": [
    {
     "data": {
      "text/plain": [
       "2570    trust concerns unusual romance two young misfi...\n",
       "3139    late los angeles hannon fuller mueller stahl o...\n",
       "7139    opening scene shows anjali sindhu tolani sitti...\n",
       "3787    story told flashback cia agent marcus jones re...\n",
       "7788    teenager lily works checkout girl local superm...\n",
       "Name: plot_cleaned, dtype: object"
      ]
     },
     "execution_count": 56,
     "metadata": {},
     "output_type": "execute_result"
    }
   ],
   "source": [
    "X_test.head()"
   ]
  },
  {
   "cell_type": "code",
   "execution_count": 57,
   "metadata": {},
   "outputs": [
    {
     "data": {
      "text/plain": [
       "2570            romance\n",
       "3139    science fiction\n",
       "7139             action\n",
       "3787             action\n",
       "7788           suspense\n",
       "Name: Genre, dtype: object"
      ]
     },
     "execution_count": 57,
     "metadata": {},
     "output_type": "execute_result"
    }
   ],
   "source": [
    "y_test.head()"
   ]
  },
  {
   "cell_type": "markdown",
   "metadata": {},
   "source": [
    "#### Mapping genres to numericals"
   ]
  },
  {
   "cell_type": "code",
   "execution_count": 58,
   "metadata": {},
   "outputs": [],
   "source": [
    "genre_map = {'action':0,'suspense':1,'romance':2,'science fiction':3,'others':4,'horror':5}"
   ]
  },
  {
   "cell_type": "code",
   "execution_count": 59,
   "metadata": {},
   "outputs": [],
   "source": [
    "y_train = y_train.map(genre_map)"
   ]
  },
  {
   "cell_type": "code",
   "execution_count": 60,
   "metadata": {},
   "outputs": [],
   "source": [
    "y_test = y_test.map(genre_map)"
   ]
  },
  {
   "cell_type": "code",
   "execution_count": 61,
   "metadata": {},
   "outputs": [
    {
     "data": {
      "text/plain": [
       "2570    2\n",
       "3139    3\n",
       "7139    0\n",
       "3787    0\n",
       "7788    1\n",
       "Name: Genre, dtype: int64"
      ]
     },
     "execution_count": 61,
     "metadata": {},
     "output_type": "execute_result"
    }
   ],
   "source": [
    "y_test.head()"
   ]
  },
  {
   "cell_type": "code",
   "execution_count": 62,
   "metadata": {},
   "outputs": [
    {
     "data": {
      "text/plain": [
       "1    338\n",
       "2    329\n",
       "0    274\n",
       "4    236\n",
       "5    224\n",
       "3    195\n",
       "Name: Genre, dtype: int64"
      ]
     },
     "execution_count": 62,
     "metadata": {},
     "output_type": "execute_result"
    }
   ],
   "source": [
    "y_test.value_counts()"
   ]
  },
  {
   "cell_type": "markdown",
   "metadata": {},
   "source": [
    "<h2 style=\"text-align:center\">Converting Text into features</h2>"
   ]
  },
  {
   "cell_type": "markdown",
   "metadata": {},
   "source": [
    "> For this we will be using TF-IDF vectorizer. \n",
    "\n",
    "Term Frequency Formula\n",
    "![tf_formula](https://miro.medium.com/max/420/1*T-K5vPy1IROvrQe-Wh_CLA.png)\n",
    "\n",
    "> Here f(w,d) is the frequency of word w in document d.\n",
    "\n",
    "Inverse Document Frequency Formula\n",
    "![idf_formula](https://miro.medium.com/max/458/0*YcSQWBsLk9t5FaVJ.png)\n",
    "> With N documents in the dataset and f(w, D) the frequency of word w in the whole dataset, this number will be lower with more appearances of the word in the whole dataset.\n",
    "Here f(w,d) is the frequency of word w in document d.\n",
    "\n",
    "\n",
    "Tf-Idf Formula\n",
    "![tf_idf_formula](https://miro.medium.com/max/556/0*rs8otIUS1Vu3nOMY.png)\n"
   ]
  },
  {
   "cell_type": "code",
   "execution_count": 63,
   "metadata": {},
   "outputs": [],
   "source": [
    "from sklearn.feature_extraction.text import TfidfVectorizer"
   ]
  },
  {
   "cell_type": "code",
   "execution_count": 64,
   "metadata": {},
   "outputs": [],
   "source": [
    "tf_idf_vectorizer = TfidfVectorizer(lowercase=True)"
   ]
  },
  {
   "cell_type": "code",
   "execution_count": 65,
   "metadata": {},
   "outputs": [],
   "source": [
    "X_train_vectorized = tf_idf_vectorizer.fit_transform(X_train)"
   ]
  },
  {
   "cell_type": "code",
   "execution_count": 66,
   "metadata": {},
   "outputs": [
    {
     "name": "stdout",
     "output_type": "stream",
     "text": [
      "['afn', 'afoot', 'aforementioned', 'aforesaid', 'afoul', 'afraid', 'afresh', 'africa', 'african', 'africans']\n"
     ]
    }
   ],
   "source": [
    "print(tf_idf_vectorizer.get_feature_names()[900:910])"
   ]
  },
  {
   "cell_type": "code",
   "execution_count": 67,
   "metadata": {},
   "outputs": [
    {
     "data": {
      "text/plain": [
       "(6383, 64524)"
      ]
     },
     "execution_count": 67,
     "metadata": {},
     "output_type": "execute_result"
    }
   ],
   "source": [
    "X_train_vectorized.shape"
   ]
  },
  {
   "cell_type": "code",
   "execution_count": 68,
   "metadata": {},
   "outputs": [],
   "source": [
    "X_test_vectorized = tf_idf_vectorizer.transform(X_test)"
   ]
  },
  {
   "cell_type": "code",
   "execution_count": 69,
   "metadata": {},
   "outputs": [
    {
     "data": {
      "text/plain": [
       "(1596, 64524)"
      ]
     },
     "execution_count": 69,
     "metadata": {},
     "output_type": "execute_result"
    }
   ],
   "source": [
    "X_test_vectorized.shape"
   ]
  },
  {
   "cell_type": "markdown",
   "metadata": {},
   "source": [
    "## Training the learning algorithm\n",
    "\n",
    "\n",
    "(Alpha tuning using GridSearchCV)"
   ]
  },
  {
   "cell_type": "markdown",
   "metadata": {},
   "source": [
    "### OneVsRestClassifier with SGDClassifier( penalty=l2, loss=log )==> {Logistic regression}¶"
   ]
  },
  {
   "cell_type": "code",
   "execution_count": 70,
   "metadata": {},
   "outputs": [
    {
     "name": "stdout",
     "output_type": "stream",
     "text": [
      "0.001\n",
      "{'estimator__alpha': [0.001], 'estimator__loss': ['log'], 'estimator__penalty': ['l2']}\n",
      "Gridsearchcv\n",
      "fit model\n",
      "0.01\n",
      "{'estimator__alpha': [0.01], 'estimator__loss': ['log'], 'estimator__penalty': ['l2']}\n",
      "Gridsearchcv\n",
      "fit model\n",
      "0.1\n",
      "{'estimator__alpha': [0.1], 'estimator__loss': ['log'], 'estimator__penalty': ['l2']}\n",
      "Gridsearchcv\n",
      "fit model\n",
      "\n",
      " The optimal value of alpha with penalty=l2 and loss= log is 0.\n"
     ]
    },
    {
     "data": {
      "image/png": "[encoded data removed]",
      "text/plain": [
       "<Figure size 432x288 with 1 Axes>"
      ]
     },
     "metadata": {},
     "output_type": "display_data"
    },
    {
     "name": "stdout",
     "output_type": "stream",
     "text": [
      "Time taken to run this cell : 0:00:11.071698\n"
     ]
    }
   ],
   "source": [
    "start = datetime.now()\n",
    "alpha=[10**-3,10**-2,10**-1]\n",
    "\n",
    "import warnings\n",
    "warnings.filterwarnings('ignore')\n",
    "\n",
    "# hp1={'estimator__C':alpha}\n",
    "\n",
    "cv_scores = []\n",
    "for i in alpha: \n",
    "    print(i)\n",
    "    hp1={'estimator__alpha':[i],\n",
    "         'estimator__loss':['log'],\n",
    "         'estimator__penalty':['l2']}\n",
    "    print(hp1)\n",
    "    classifier = OneVsRestClassifier(SGDClassifier())\n",
    "\n",
    "    model11 =GridSearchCV(classifier,hp1,\n",
    "                          cv=3, scoring='f1_micro',n_jobs=-1)\n",
    "    print(\"Gridsearchcv\")\n",
    "    best_model1=model11.fit(X_train_vectorized, y_train)\n",
    "    print('fit model')\n",
    "    Train_model_score=best_model1.score(X_train_vectorized, \n",
    "                                        y_train)\n",
    "#print(\"best_model1\")\n",
    "    cv_scores.append(Train_model_score.mean())\n",
    "\n",
    "fscore = [x for x in cv_scores]\n",
    "\n",
    "# determining best alpha\n",
    "\n",
    "optimal_alpha21 = alpha[fscore.index(max(fscore))]\n",
    "print('\\n The optimal value of alpha with penalty=l2 and loss= log is %d.' % optimal_alpha21)\n",
    "\n",
    "# Plots\n",
    "fig4 = plt.figure( facecolor='c', edgecolor='k')\n",
    "plt.plot(alpha, fscore,color='green', marker='o', linestyle='dashed',\n",
    "linewidth=2, markersize=12)\n",
    "\n",
    "for xy in zip(alpha, np.round(fscore,3)):\n",
    "    plt.annotate('(%s, %s)' % xy, xy=xy, textcoords='data')\n",
    "\n",
    "plt.xlabel('Hyper parameter Alpha')\n",
    "plt.ylabel('F1_Score value ')\n",
    "plt.show()\n",
    "\n",
    "print(\"Time taken to run this cell :\", datetime.now() - start)"
   ]
  },
  {
   "cell_type": "code",
   "execution_count": 71,
   "metadata": {},
   "outputs": [
    {
     "name": "stdout",
     "output_type": "stream",
     "text": [
      "0.001\n"
     ]
    }
   ],
   "source": [
    "print(optimal_alpha21)"
   ]
  },
  {
   "cell_type": "markdown",
   "metadata": {},
   "source": [
    "### Machine Learning"
   ]
  },
  {
   "cell_type": "code",
   "execution_count": 72,
   "metadata": {},
   "outputs": [
    {
     "data": {
      "text/plain": [
       "OneVsRestClassifier(estimator=SGDClassifier(alpha=0.001, loss='log'), n_jobs=-1)"
      ]
     },
     "execution_count": 72,
     "metadata": {},
     "output_type": "execute_result"
    }
   ],
   "source": [
    "best_model1 = OneVsRestClassifier(SGDClassifier(loss='log', alpha=optimal_alpha21,\n",
    "                                               penalty='l2'), n_jobs=-1)\n",
    "best_model1.fit(X_train_vectorized, y_train)"
   ]
  },
  {
   "cell_type": "markdown",
   "metadata": {},
   "source": [
    "### Evaluation"
   ]
  },
  {
   "cell_type": "code",
   "execution_count": 73,
   "metadata": {},
   "outputs": [
    {
     "name": "stdout",
     "output_type": "stream",
     "text": [
      "Accuracy : 0.5532581453634086\n",
      "Micro-averasge quality numbers\n",
      "Precision: 0.5533, Recall: 0.5533, F1-measure: 0.5533\n",
      "Macro-average quality numbers\n",
      "Precision: 0.6664, Recall: 0.5121, F1-measure: 0.5081\n",
      "              precision    recall  f1-score   support\n",
      "\n",
      "           0       0.60      0.52      0.56       274\n",
      "           1       0.43      0.69      0.53       338\n",
      "           2       0.55      0.93      0.69       329\n",
      "           3       0.95      0.31      0.47       195\n",
      "           4       0.75      0.13      0.22       236\n",
      "           5       0.72      0.49      0.58       224\n",
      "\n",
      "    accuracy                           0.55      1596\n",
      "   macro avg       0.67      0.51      0.51      1596\n",
      "weighted avg       0.64      0.55      0.52      1596\n",
      "\n",
      "Time taken to run this cell : 0:00:11.763666\n"
     ]
    }
   ],
   "source": [
    "predictions = best_model1.predict(X_test_vectorized)\n",
    "\n",
    "print(\"Accuracy :\",metrics.accuracy_score(y_test, predictions))\n",
    "\n",
    "precision = precision_score(y_test, predictions, average='micro')\n",
    "recall = recall_score(y_test, predictions, average='micro')\n",
    "f1 = f1_score(y_test, predictions, average='micro')\n",
    " \n",
    "print(\"Micro-averasge quality numbers\")\n",
    "print(\"Precision: {:.4f}, Recall: {:.4f}, F1-measure: {:.4f}\".format(precision, recall, f1))\n",
    "\n",
    "precision = precision_score(y_test, predictions, average='macro')\n",
    "recall = recall_score(y_test, predictions, average='macro')\n",
    "f1 = f1_score(y_test, predictions, average='macro')\n",
    " \n",
    "print(\"Macro-average quality numbers\")\n",
    "print(\"Precision: {:.4f}, Recall: {:.4f}, F1-measure: {:.4f}\".format(precision, recall, f1))\n",
    "\n",
    "print (metrics.classification_report(y_test, predictions)) \n",
    "print(\"Time taken to run this cell :\", datetime.now() - start)"
   ]
  },
  {
   "cell_type": "markdown",
   "metadata": {},
   "source": [
    "### XGBoost Classifier"
   ]
  },
  {
   "cell_type": "code",
   "execution_count": 86,
   "metadata": {},
   "outputs": [
    {
     "name": "stdout",
     "output_type": "stream",
     "text": [
      "Requirement already satisfied: xgboost in /opt/anaconda3/lib/python3.7/site-packages (1.1.1)\r\n",
      "Requirement already satisfied: scipy in /opt/anaconda3/lib/python3.7/site-packages (from xgboost) (1.4.1)\r\n",
      "Requirement already satisfied: numpy in /opt/anaconda3/lib/python3.7/site-packages (from xgboost) (1.17.2)\r\n"
     ]
    }
   ],
   "source": [
    "!python3 -m pip install xgboost"
   ]
  },
  {
   "cell_type": "code",
   "execution_count": 87,
   "metadata": {},
   "outputs": [],
   "source": [
    "from xgboost import XGBClassifier"
   ]
  },
  {
   "cell_type": "code",
   "execution_count": 88,
   "metadata": {},
   "outputs": [],
   "source": [
    "xgBoost = XGBClassifier()"
   ]
  },
  {
   "cell_type": "code",
   "execution_count": 81,
   "metadata": {},
   "outputs": [],
   "source": [
    "#parameters = {'learning_rate':[0.2,0.3],'n_estimators':[100,500]}"
   ]
  },
  {
   "cell_type": "code",
   "execution_count": 77,
   "metadata": {},
   "outputs": [],
   "source": [
    "#xgBoost_tuned = GridSearchCV(xgBoost,parameters)"
   ]
  },
  {
   "cell_type": "code",
   "execution_count": 89,
   "metadata": {},
   "outputs": [
    {
     "data": {
      "text/plain": [
       "XGBClassifier(base_score=0.5, booster='gbtree', colsample_bylevel=1,\n",
       "              colsample_bynode=1, colsample_bytree=1, gamma=0, gpu_id=-1,\n",
       "              importance_type='gain', interaction_constraints='',\n",
       "              learning_rate=0.300000012, max_delta_step=0, max_depth=6,\n",
       "              min_child_weight=1, missing=nan, monotone_constraints='()',\n",
       "              n_estimators=100, n_jobs=0, num_parallel_tree=1,\n",
       "              objective='multi:softprob', random_state=0, reg_alpha=0,\n",
       "              reg_lambda=1, scale_pos_weight=None, subsample=1,\n",
       "              tree_method='exact', validate_parameters=1, verbosity=None)"
      ]
     },
     "execution_count": 89,
     "metadata": {},
     "output_type": "execute_result"
    }
   ],
   "source": [
    "xgBoost.fit(X_train_vectorized,y_train)"
   ]
  },
  {
   "cell_type": "markdown",
   "metadata": {},
   "source": [
    "### Evaluation"
   ]
  },
  {
   "cell_type": "code",
   "execution_count": 127,
   "metadata": {},
   "outputs": [
    {
     "name": "stdout",
     "output_type": "stream",
     "text": [
      "Accuracy : 0.6259398496240601\n",
      "Micro-averasge quality numbers\n",
      "Precision: 0.6259, Recall: 0.6259, F1-measure: 0.6259\n",
      "Macro-average quality numbers\n",
      "Precision: 0.6430, Recall: 0.6159, F1-measure: 0.6245\n",
      "              precision    recall  f1-score   support\n",
      "\n",
      "           0       0.59      0.65      0.62       274\n",
      "           1       0.50      0.57      0.53       338\n",
      "           2       0.71      0.81      0.76       329\n",
      "           3       0.79      0.57      0.66       195\n",
      "           4       0.57      0.47      0.52       236\n",
      "           5       0.70      0.62      0.66       224\n",
      "\n",
      "    accuracy                           0.63      1596\n",
      "   macro avg       0.64      0.62      0.62      1596\n",
      "weighted avg       0.63      0.63      0.62      1596\n",
      "\n",
      "Time taken to run this cell : 0:05:22.848876\n"
     ]
    }
   ],
   "source": [
    "predictions = xgBoost.predict(X_test_vectorized)\n",
    "\n",
    "print(\"Accuracy :\",metrics.accuracy_score(y_test, predictions))\n",
    "\n",
    "precision = precision_score(y_test, predictions, average='micro')\n",
    "recall = recall_score(y_test, predictions, average='micro')\n",
    "f1 = f1_score(y_test, predictions, average='micro')\n",
    " \n",
    "print(\"Micro-averasge quality numbers\")\n",
    "print(\"Precision: {:.4f}, Recall: {:.4f}, F1-measure: {:.4f}\".format(precision, recall, f1))\n",
    "\n",
    "precision = precision_score(y_test, predictions, average='macro')\n",
    "recall = recall_score(y_test, predictions, average='macro')\n",
    "f1 = f1_score(y_test, predictions, average='macro')\n",
    " \n",
    "print(\"Macro-average quality numbers\")\n",
    "print(\"Precision: {:.4f}, Recall: {:.4f}, F1-measure: {:.4f}\".format(precision, recall, f1))\n",
    "\n",
    "print (metrics.classification_report(y_test, predictions)) \n",
    "print(\"Time taken to run this cell :\", datetime.now() - start)"
   ]
  },
  {
   "cell_type": "markdown",
   "metadata": {},
   "source": [
    "---"
   ]
  },
  {
   "cell_type": "markdown",
   "metadata": {},
   "source": [
    "### Multinomial Naive Bayes classifier"
   ]
  },
  {
   "cell_type": "code",
   "execution_count": 92,
   "metadata": {},
   "outputs": [],
   "source": [
    "from sklearn.naive_bayes import MultinomialNB"
   ]
  },
  {
   "cell_type": "code",
   "execution_count": 124,
   "metadata": {},
   "outputs": [
    {
     "data": {
      "text/plain": [
       "MultinomialNB(alpha=0.5)"
      ]
     },
     "execution_count": 124,
     "metadata": {},
     "output_type": "execute_result"
    }
   ],
   "source": [
    "MNB_classifier = MultinomialNB(alpha=0.5)\n",
    "MNB_classifier.fit(X_train_vectorized,y_train)"
   ]
  },
  {
   "cell_type": "markdown",
   "metadata": {},
   "source": [
    "### Evaluation"
   ]
  },
  {
   "cell_type": "code",
   "execution_count": 125,
   "metadata": {},
   "outputs": [
    {
     "name": "stdout",
     "output_type": "stream",
     "text": [
      "Accuracy : 0.5952380952380952\n",
      "Micro-averasge quality numbers\n",
      "Precision: 0.5952, Recall: 0.5952, F1-measure: 0.5952\n",
      "Macro-average quality numbers\n",
      "Precision: 0.7116, Recall: 0.5611, F1-measure: 0.5708\n",
      "              precision    recall  f1-score   support\n",
      "\n",
      "           0       0.68      0.50      0.58       274\n",
      "           1       0.42      0.79      0.55       338\n",
      "           2       0.67      0.85      0.75       329\n",
      "           3       0.96      0.39      0.55       195\n",
      "           4       0.85      0.21      0.34       236\n",
      "           5       0.69      0.62      0.65       224\n",
      "\n",
      "    accuracy                           0.60      1596\n",
      "   macro avg       0.71      0.56      0.57      1596\n",
      "weighted avg       0.68      0.60      0.58      1596\n",
      "\n",
      "Time taken to run this cell : 0:00:55.493385\n"
     ]
    }
   ],
   "source": [
    "predictions = MNB_classifier.predict(X_test_vectorized)\n",
    "\n",
    "print(\"Accuracy :\",metrics.accuracy_score(y_test, predictions))\n",
    "\n",
    "precision = precision_score(y_test, predictions, average='micro')\n",
    "recall = recall_score(y_test, predictions, average='micro')\n",
    "f1 = f1_score(y_test, predictions, average='micro')\n",
    " \n",
    "print(\"Micro-averasge quality numbers\")\n",
    "print(\"Precision: {:.4f}, Recall: {:.4f}, F1-measure: {:.4f}\".format(precision, recall, f1))\n",
    "\n",
    "precision = precision_score(y_test, predictions, average='macro')\n",
    "recall = recall_score(y_test, predictions, average='macro')\n",
    "f1 = f1_score(y_test, predictions, average='macro')\n",
    " \n",
    "print(\"Macro-average quality numbers\")\n",
    "print(\"Precision: {:.4f}, Recall: {:.4f}, F1-measure: {:.4f}\".format(precision, recall, f1))\n",
    "\n",
    "print (metrics.classification_report(y_test, predictions)) \n",
    "print(\"Time taken to run this cell :\", datetime.now() - start)"
   ]
  },
  {
   "cell_type": "markdown",
   "metadata": {},
   "source": [
    "----\n",
    "----\n",
    "---"
   ]
  },
  {
   "cell_type": "markdown",
   "metadata": {},
   "source": [
    "## Observations"
   ]
  },
  {
   "cell_type": "code",
   "execution_count": 136,
   "metadata": {},
   "outputs": [],
   "source": [
    "from prettytable import PrettyTable\n",
    "x = PrettyTable()\n",
    "x.field_names = [\"Sr.No\", \"MODEL\",\"FEATURIZATION\",\"PENALTY\" ,\"ALPHA\",\"PRECISION\",\"RECALL\"]"
   ]
  },
  {
   "cell_type": "code",
   "execution_count": 137,
   "metadata": {},
   "outputs": [],
   "source": [
    "x.add_row([\"1\", 'MultiNomialNaiveBayes', \"Tf-idf\",\"NA\",0.5,71.1,56.11])\n",
    "x.add_row([\"2\", 'XGBoost', \"Tf-idf\",\"NA\",\"NA\",64.3,61.5])\n",
    "x.add_row([\"3\", 'OneVsRest+SGD Classifier', \"Tf-idf\",\"l2\",0.001,66.64,56.51])\n"
   ]
  },
  {
   "cell_type": "code",
   "execution_count": 138,
   "metadata": {},
   "outputs": [
    {
     "name": "stdout",
     "output_type": "stream",
     "text": [
      "+-------+--------------------------+---------------+---------+-------+-----------+--------+\n",
      "| Sr.No |          MODEL           | FEATURIZATION | PENALTY | ALPHA | PRECISION | RECALL |\n",
      "+-------+--------------------------+---------------+---------+-------+-----------+--------+\n",
      "|   1   |  MultiNomialNaiveBayes   |     Tf-idf    |    NA   |  0.5  |    71.1   | 56.11  |\n",
      "|   2   |         XGBoost          |     Tf-idf    |    NA   |   NA  |    64.3   |  61.5  |\n",
      "|   3   | OneVsRest+SGD Classifier |     Tf-idf    |    l2   | 0.001 |   66.64   | 56.51  |\n",
      "+-------+--------------------------+---------------+---------+-------+-----------+--------+\n"
     ]
    }
   ],
   "source": [
    "print(x)"
   ]
  },
  {
   "cell_type": "markdown",
   "metadata": {},
   "source": [
    "<hr style=\"height:1px;border:none;color:#333;background-color:#333;\" />\n",
    "\n"
   ]
  },
  {
   "cell_type": "markdown",
   "metadata": {},
   "source": [
    "<h1 style=\"text-align:center\">Classifiying 1000 movies into genres(Unseen Data)</h1>"
   ]
  },
  {
   "cell_type": "markdown",
   "metadata": {},
   "source": [
    "### Creating inference function"
   ]
  },
  {
   "cell_type": "code",
   "execution_count": 176,
   "metadata": {},
   "outputs": [
    {
     "data": {
      "text/html": [
       "<div>\n",
       "<style scoped>\n",
       "    .dataframe tbody tr th:only-of-type {\n",
       "        vertical-align: middle;\n",
       "    }\n",
       "\n",
       "    .dataframe tbody tr th {\n",
       "        vertical-align: top;\n",
       "    }\n",
       "\n",
       "    .dataframe thead th {\n",
       "        text-align: right;\n",
       "    }\n",
       "</style>\n",
       "<table border=\"1\" class=\"dataframe\">\n",
       "  <thead>\n",
       "    <tr style=\"text-align: right;\">\n",
       "      <th></th>\n",
       "      <th>title</th>\n",
       "      <th>cast</th>\n",
       "      <th>release_year</th>\n",
       "      <th>plot</th>\n",
       "    </tr>\n",
       "  </thead>\n",
       "  <tbody>\n",
       "    <tr>\n",
       "      <td>0</td>\n",
       "      <td>The Godfather</td>\n",
       "      <td>\\nMarlon Brando\\nAl Pacino\\nJames Caan\\nRichar...</td>\n",
       "      <td>\\nMarch 14, 1972 (1972-03-14) (Loew's State Th...</td>\n",
       "      <td>NAIn 1945 New York City, at his daughter Conni...</td>\n",
       "    </tr>\n",
       "    <tr>\n",
       "      <td>1</td>\n",
       "      <td>The Godfather: Part II</td>\n",
       "      <td>\\nAl Pacino\\nRobert Duvall\\nDiane Keaton\\nRobe...</td>\n",
       "      <td>\\nDecember 12, 1974 (1974-12-12) (New York Cit...</td>\n",
       "      <td>NaN</td>\n",
       "    </tr>\n",
       "    <tr>\n",
       "      <td>2</td>\n",
       "      <td>Schindler's List</td>\n",
       "      <td>\\nLiam Neeson\\nBen Kingsley\\nRalph Fiennes\\nCa...</td>\n",
       "      <td>\\nNovember 30, 1993 (1993-11-30) (Washington, ...</td>\n",
       "      <td>NAIn Kraków during World War II, the Germans h...</td>\n",
       "    </tr>\n",
       "    <tr>\n",
       "      <td>3</td>\n",
       "      <td>The Lord of the Rings: The Return of the King</td>\n",
       "      <td>\\nElijah Wood\\nIan McKellen\\nLiv Tyler\\nViggo ...</td>\n",
       "      <td>\\n1 December 2003 (2003-12-01) (Embassy Theatr...</td>\n",
       "      <td>NATwo Hobbits, Sméagol and Déagol, are fishing...</td>\n",
       "    </tr>\n",
       "    <tr>\n",
       "      <td>4</td>\n",
       "      <td>One Flew Over the Cuckoo's Nest</td>\n",
       "      <td>\\nJack Nicholson\\nLouise Fletcher\\nWilliam Red...</td>\n",
       "      <td>\\nNovember 19, 1975 (1975-11-19)\\n</td>\n",
       "      <td>NAIn Oregon in the fall in 1963, repeat offend...</td>\n",
       "    </tr>\n",
       "  </tbody>\n",
       "</table>\n",
       "</div>"
      ],
      "text/plain": [
       "                                           title  \\\n",
       "0                                  The Godfather   \n",
       "1                         The Godfather: Part II   \n",
       "2                               Schindler's List   \n",
       "3  The Lord of the Rings: The Return of the King   \n",
       "4                One Flew Over the Cuckoo's Nest   \n",
       "\n",
       "                                                cast  \\\n",
       "0  \\nMarlon Brando\\nAl Pacino\\nJames Caan\\nRichar...   \n",
       "1  \\nAl Pacino\\nRobert Duvall\\nDiane Keaton\\nRobe...   \n",
       "2  \\nLiam Neeson\\nBen Kingsley\\nRalph Fiennes\\nCa...   \n",
       "3  \\nElijah Wood\\nIan McKellen\\nLiv Tyler\\nViggo ...   \n",
       "4  \\nJack Nicholson\\nLouise Fletcher\\nWilliam Red...   \n",
       "\n",
       "                                        release_year  \\\n",
       "0  \\nMarch 14, 1972 (1972-03-14) (Loew's State Th...   \n",
       "1  \\nDecember 12, 1974 (1974-12-12) (New York Cit...   \n",
       "2  \\nNovember 30, 1993 (1993-11-30) (Washington, ...   \n",
       "3  \\n1 December 2003 (2003-12-01) (Embassy Theatr...   \n",
       "4                 \\nNovember 19, 1975 (1975-11-19)\\n   \n",
       "\n",
       "                                                plot  \n",
       "0  NAIn 1945 New York City, at his daughter Conni...  \n",
       "1                                                NaN  \n",
       "2  NAIn Kraków during World War II, the Germans h...  \n",
       "3  NATwo Hobbits, Sméagol and Déagol, are fishing...  \n",
       "4  NAIn Oregon in the fall in 1963, repeat offend...  "
      ]
     },
     "execution_count": 176,
     "metadata": {},
     "output_type": "execute_result"
    }
   ],
   "source": [
    "unseen_data = pd.read_csv(DATA_DIR+'unseen/unseen_data.csv')\n",
    "unseen_data_raw = unseen_data.copy()\n",
    "unseen_data.head()"
   ]
  },
  {
   "cell_type": "markdown",
   "metadata": {},
   "source": [
    "### Preparing unseen data for inferencing"
   ]
  },
  {
   "cell_type": "code",
   "execution_count": 177,
   "metadata": {},
   "outputs": [],
   "source": [
    "def remove_NA(text):\n",
    "    return text[2:]\n",
    "unseen_data.drop(columns=['title','cast','release_year'],axis=1,inplace=True)\n",
    "unseen_data.dropna(inplace=True)\n",
    "unseen_data['plot'] = unseen_data['plot'].apply(lambda x: clean_text(x))\n",
    "unseen_data['plot'] = unseen_data['plot'].apply(lambda x: remove_stopwords(x))\n",
    "unseen_data['plot'] = unseen_data['plot'].apply(lambda x: remove_NA(x))"
   ]
  },
  {
   "cell_type": "code",
   "execution_count": 178,
   "metadata": {},
   "outputs": [
    {
     "data": {
      "text/html": [
       "<div>\n",
       "<style scoped>\n",
       "    .dataframe tbody tr th:only-of-type {\n",
       "        vertical-align: middle;\n",
       "    }\n",
       "\n",
       "    .dataframe tbody tr th {\n",
       "        vertical-align: top;\n",
       "    }\n",
       "\n",
       "    .dataframe thead th {\n",
       "        text-align: right;\n",
       "    }\n",
       "</style>\n",
       "<table border=\"1\" class=\"dataframe\">\n",
       "  <thead>\n",
       "    <tr style=\"text-align: right;\">\n",
       "      <th></th>\n",
       "      <th>plot</th>\n",
       "    </tr>\n",
       "  </thead>\n",
       "  <tbody>\n",
       "    <tr>\n",
       "      <td>0</td>\n",
       "      <td>in new york city daughter connies wedding carl...</td>\n",
       "    </tr>\n",
       "    <tr>\n",
       "      <td>2</td>\n",
       "      <td>in krak w world war ii germans forced local po...</td>\n",
       "    </tr>\n",
       "    <tr>\n",
       "      <td>3</td>\n",
       "      <td>two hobbits sm agol agol fishing agol discover...</td>\n",
       "    </tr>\n",
       "    <tr>\n",
       "      <td>4</td>\n",
       "      <td>in oregon fall repeat offender randle patrick ...</td>\n",
       "    </tr>\n",
       "    <tr>\n",
       "      <td>5</td>\n",
       "      <td>in bus stop savannah georgia man named forrest...</td>\n",
       "    </tr>\n",
       "  </tbody>\n",
       "</table>\n",
       "</div>"
      ],
      "text/plain": [
       "                                                plot\n",
       "0  in new york city daughter connies wedding carl...\n",
       "2  in krak w world war ii germans forced local po...\n",
       "3  two hobbits sm agol agol fishing agol discover...\n",
       "4  in oregon fall repeat offender randle patrick ...\n",
       "5  in bus stop savannah georgia man named forrest..."
      ]
     },
     "execution_count": 178,
     "metadata": {},
     "output_type": "execute_result"
    }
   ],
   "source": [
    "unseen_data.head()"
   ]
  },
  {
   "cell_type": "markdown",
   "metadata": {},
   "source": [
    "### Inferencing function"
   ]
  },
  {
   "cell_type": "code",
   "execution_count": 195,
   "metadata": {},
   "outputs": [],
   "source": [
    "def make_inference(movie_plot):\n",
    "    query_vector = tf_idf_vectorizer.transform([movie_plot])\n",
    "    predicted_genre = multi_nomial_NB.predict(query_vector)\n",
    "    genre = (list(genre_map.keys())[list(genre_map.values()).index(predicted_genre)]) \n",
    "    return genre"
   ]
  },
  {
   "cell_type": "code",
   "execution_count": 196,
   "metadata": {},
   "outputs": [
    {
     "name": "stdout",
     "output_type": "stream",
     "text": [
      "suspense\n"
     ]
    },
    {
     "data": {
      "text/plain": [
       "\"One Flew Over the Cuckoo's Nest\""
      ]
     },
     "execution_count": 196,
     "metadata": {},
     "output_type": "execute_result"
    }
   ],
   "source": [
    "genre_pred = make_inference(unseen_data['plot'][4])\n",
    "print(genre_pred)\n",
    "unseen_data_raw['title'][4]"
   ]
  },
  {
   "cell_type": "markdown",
   "metadata": {},
   "source": [
    "> The movie that is inferenced above for classification of genre is ``` One Flew Over Cuckoo's Nest ```. Our classifier predicts that it's genre is **Suspense** which is true."
   ]
  },
  {
   "cell_type": "code",
   "execution_count": 197,
   "metadata": {},
   "outputs": [
    {
     "name": "stdout",
     "output_type": "stream",
     "text": [
      "action\n"
     ]
    },
    {
     "data": {
      "text/plain": [
       "'The Last Emperor'"
      ]
     },
     "execution_count": 197,
     "metadata": {},
     "output_type": "execute_result"
    }
   ],
   "source": [
    "genre_pred = make_inference(unseen_data['plot'][45])\n",
    "print(genre_pred)\n",
    "unseen_data_raw['title'][45]"
   ]
  },
  {
   "cell_type": "markdown",
   "metadata": {},
   "source": [
    "> The movie that is inferenced above for classification of genre is ``` The Last Emperor ```. Our classifier predicts that it's genre is **Action** which is true."
   ]
  },
  {
   "cell_type": "code",
   "execution_count": 198,
   "metadata": {},
   "outputs": [
    {
     "name": "stdout",
     "output_type": "stream",
     "text": [
      "romance\n"
     ]
    },
    {
     "data": {
      "text/plain": [
       "'The Broadway Melody'"
      ]
     },
     "execution_count": 198,
     "metadata": {},
     "output_type": "execute_result"
    }
   ],
   "source": [
    "genre_pred = make_inference(unseen_data['plot'][68])\n",
    "print(genre_pred)\n",
    "unseen_data_raw['title'][68]"
   ]
  },
  {
   "cell_type": "code",
   "execution_count": 199,
   "metadata": {},
   "outputs": [
    {
     "name": "stdout",
     "output_type": "stream",
     "text": [
      "romance\n"
     ]
    },
    {
     "data": {
      "text/plain": [
       "\"Prizzi's Honor\""
      ]
     },
     "execution_count": 199,
     "metadata": {},
     "output_type": "execute_result"
    }
   ],
   "source": [
    "genre_pred = make_inference(unseen_data['plot'][432])\n",
    "print(genre_pred)\n",
    "unseen_data_raw['title'][432]"
   ]
  },
  {
   "cell_type": "code",
   "execution_count": 200,
   "metadata": {},
   "outputs": [],
   "source": [
    "predicted_genres = []\n",
    "for movie_plot in unseen_data['plot']:\n",
    "    pred = make_inference(movie_plot=movie_plot)\n",
    "    predicted_genres.append(pred)    "
   ]
  },
  {
   "cell_type": "code",
   "execution_count": 203,
   "metadata": {},
   "outputs": [],
   "source": [
    "movie_predictions = pd.DataFrame({'Wikipedia text':unseen_data['plot'],'Predicted Genre':predicted_genres})"
   ]
  },
  {
   "cell_type": "code",
   "execution_count": 204,
   "metadata": {},
   "outputs": [],
   "source": [
    "movie_predictions.to_csv(DATA_DIR+'predictions/genre_predictions.csv',index=False)"
   ]
  },
  {
   "cell_type": "code",
   "execution_count": 205,
   "metadata": {},
   "outputs": [
    {
     "data": {
      "text/html": [
       "<div>\n",
       "<style scoped>\n",
       "    .dataframe tbody tr th:only-of-type {\n",
       "        vertical-align: middle;\n",
       "    }\n",
       "\n",
       "    .dataframe tbody tr th {\n",
       "        vertical-align: top;\n",
       "    }\n",
       "\n",
       "    .dataframe thead th {\n",
       "        text-align: right;\n",
       "    }\n",
       "</style>\n",
       "<table border=\"1\" class=\"dataframe\">\n",
       "  <thead>\n",
       "    <tr style=\"text-align: right;\">\n",
       "      <th></th>\n",
       "      <th>Wikipedia text</th>\n",
       "      <th>Predicted Genre</th>\n",
       "    </tr>\n",
       "  </thead>\n",
       "  <tbody>\n",
       "    <tr>\n",
       "      <td>0</td>\n",
       "      <td>in new york city daughter connies wedding carl...</td>\n",
       "      <td>suspense</td>\n",
       "    </tr>\n",
       "    <tr>\n",
       "      <td>2</td>\n",
       "      <td>in krak w world war ii germans forced local po...</td>\n",
       "      <td>suspense</td>\n",
       "    </tr>\n",
       "    <tr>\n",
       "      <td>3</td>\n",
       "      <td>two hobbits sm agol agol fishing agol discover...</td>\n",
       "      <td>horror</td>\n",
       "    </tr>\n",
       "    <tr>\n",
       "      <td>4</td>\n",
       "      <td>in oregon fall repeat offender randle patrick ...</td>\n",
       "      <td>suspense</td>\n",
       "    </tr>\n",
       "    <tr>\n",
       "      <td>5</td>\n",
       "      <td>in bus stop savannah georgia man named forrest...</td>\n",
       "      <td>romance</td>\n",
       "    </tr>\n",
       "  </tbody>\n",
       "</table>\n",
       "</div>"
      ],
      "text/plain": [
       "                                      Wikipedia text Predicted Genre\n",
       "0  in new york city daughter connies wedding carl...        suspense\n",
       "2  in krak w world war ii germans forced local po...        suspense\n",
       "3  two hobbits sm agol agol fishing agol discover...          horror\n",
       "4  in oregon fall repeat offender randle patrick ...        suspense\n",
       "5  in bus stop savannah georgia man named forrest...         romance"
      ]
     },
     "execution_count": 205,
     "metadata": {},
     "output_type": "execute_result"
    }
   ],
   "source": [
    "movie_predictions.head()"
   ]
  },
  {
   "cell_type": "markdown",
   "metadata": {},
   "source": [
    "---"
   ]
  },
  {
   "cell_type": "markdown",
   "metadata": {},
   "source": [
    "# END OF NOTEBOOK"
   ]
  },
  {
   "cell_type": "code",
   "execution_count": null,
   "metadata": {},
   "outputs": [],
   "source": []
  }
 ],
 "metadata": {
  "kernelspec": {
   "display_name": "Python 3",
   "language": "python",
   "name": "python3"
  },
  "language_info": {
   "codemirror_mode": {
    "name": "ipython",
    "version": 3
   },
   "file_extension": ".py",
   "mimetype": "text/x-python",
   "name": "python",
   "nbconvert_exporter": "python",
   "pygments_lexer": "ipython3",
   "version": "3.7.4"
  }
 },
 "nbformat": 4,
 "nbformat_minor": 2
}
