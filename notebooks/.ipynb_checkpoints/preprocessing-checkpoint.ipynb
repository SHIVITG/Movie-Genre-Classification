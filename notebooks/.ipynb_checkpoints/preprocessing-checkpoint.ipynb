{
 "cells": [
  {
   "cell_type": "markdown",
   "metadata": {},
   "source": [
    "## Notebook to convert raw training data to clean format"
   ]
  },
  {
   "cell_type": "markdown",
   "metadata": {},
   "source": [
    "---"
   ]
  },
  {
   "cell_type": "code",
   "execution_count": 1,
   "metadata": {},
   "outputs": [],
   "source": [
    "import os\n",
    "import pandas as pd\n",
    "import csv\n",
    "from tqdm import tqdm\n",
    "import json"
   ]
  },
  {
   "cell_type": "code",
   "execution_count": 2,
   "metadata": {},
   "outputs": [],
   "source": [
    "BASE_DIR = '../data/train/'\n",
    "\n",
    "#----------------------------------------------\n",
    "\n",
    "wiki_data = BASE_DIR+'wiki_movie_data.csv'\n",
    "\n",
    "CMU_data = BASE_DIR+'CMU_movie_metadata.tsv'\n",
    "\n",
    "kaggle_data = BASE_DIR+'kaggle_movie_data.csv'\n",
    "\n",
    "CMU_plot_summaries = BASE_DIR+'CMU_plot_summaries.txt'\n",
    "\n"
   ]
  },
  {
   "cell_type": "code",
   "execution_count": 3,
   "metadata": {},
   "outputs": [],
   "source": [
    "class ReadData():\n",
    "    def load_file(self,file_path,file_format):\n",
    "        if file_format not in ['tsv','csv']:\n",
    "            raise TypeError(\"File format not supported in class ReadData. Please use manual loading.\")\n",
    "            \n",
    "        else:\n",
    "            if file_format == 'csv':\n",
    "                return pd.read_csv(file_path)\n",
    "            else:\n",
    "                return pd.read_csv(file_path,sep='\\t')\n",
    "\n",
    "        "
   ]
  },
  {
   "cell_type": "code",
   "execution_count": 4,
   "metadata": {},
   "outputs": [],
   "source": [
    "def convert_txt_to_csv(txt_filename):\n",
    "    data = []\n",
    "    with open(txt_filename, 'r') as f:\n",
    "        reader = csv.reader(f, dialect='excel-tab') \n",
    "        for row in tqdm(reader):\n",
    "            data.append(row)\n",
    "    movie_id = []\n",
    "    plot = []\n",
    "\n",
    "    # extract movie Ids and plot summaries\n",
    "    for i in tqdm(data):\n",
    "        movie_id.append(i[0])\n",
    "        plot.append(i[1])\n",
    "\n",
    "    # create dataframe\n",
    "    movies = pd.DataFrame({'ID': movie_id, 'Plot': plot})\n",
    "    movies.to_csv(BASE_DIR+'CMU_plot.csv',index=False)"
   ]
  },
  {
   "cell_type": "code",
   "execution_count": 5,
   "metadata": {},
   "outputs": [],
   "source": [
    "data_reader = ReadData()"
   ]
  },
  {
   "cell_type": "code",
   "execution_count": 6,
   "metadata": {},
   "outputs": [],
   "source": [
    "wikipedia_data = data_reader.load_file(file_path=wiki_data,file_format='csv')"
   ]
  },
  {
   "cell_type": "code",
   "execution_count": 7,
   "metadata": {},
   "outputs": [
    {
     "data": {
      "text/html": [
       "<div>\n",
       "<style scoped>\n",
       "    .dataframe tbody tr th:only-of-type {\n",
       "        vertical-align: middle;\n",
       "    }\n",
       "\n",
       "    .dataframe tbody tr th {\n",
       "        vertical-align: top;\n",
       "    }\n",
       "\n",
       "    .dataframe thead th {\n",
       "        text-align: right;\n",
       "    }\n",
       "</style>\n",
       "<table border=\"1\" class=\"dataframe\">\n",
       "  <thead>\n",
       "    <tr style=\"text-align: right;\">\n",
       "      <th></th>\n",
       "      <th>Release Year</th>\n",
       "      <th>Title</th>\n",
       "      <th>Origin/Ethnicity</th>\n",
       "      <th>Director</th>\n",
       "      <th>Cast</th>\n",
       "      <th>Genre</th>\n",
       "      <th>Wiki Page</th>\n",
       "      <th>Plot</th>\n",
       "    </tr>\n",
       "  </thead>\n",
       "  <tbody>\n",
       "    <tr>\n",
       "      <th>0</th>\n",
       "      <td>1901</td>\n",
       "      <td>Kansas Saloon Smashers</td>\n",
       "      <td>American</td>\n",
       "      <td>Unknown</td>\n",
       "      <td>NaN</td>\n",
       "      <td>unknown</td>\n",
       "      <td>https://en.wikipedia.org/wiki/Kansas_Saloon_Sm...</td>\n",
       "      <td>A bartender is working at a saloon, serving dr...</td>\n",
       "    </tr>\n",
       "    <tr>\n",
       "      <th>1</th>\n",
       "      <td>1901</td>\n",
       "      <td>Love by the Light of the Moon</td>\n",
       "      <td>American</td>\n",
       "      <td>Unknown</td>\n",
       "      <td>NaN</td>\n",
       "      <td>unknown</td>\n",
       "      <td>https://en.wikipedia.org/wiki/Love_by_the_Ligh...</td>\n",
       "      <td>The moon, painted with a smiling face hangs ov...</td>\n",
       "    </tr>\n",
       "    <tr>\n",
       "      <th>2</th>\n",
       "      <td>1901</td>\n",
       "      <td>The Martyred Presidents</td>\n",
       "      <td>American</td>\n",
       "      <td>Unknown</td>\n",
       "      <td>NaN</td>\n",
       "      <td>unknown</td>\n",
       "      <td>https://en.wikipedia.org/wiki/The_Martyred_Pre...</td>\n",
       "      <td>The film, just over a minute long, is composed...</td>\n",
       "    </tr>\n",
       "    <tr>\n",
       "      <th>3</th>\n",
       "      <td>1901</td>\n",
       "      <td>Terrible Teddy, the Grizzly King</td>\n",
       "      <td>American</td>\n",
       "      <td>Unknown</td>\n",
       "      <td>NaN</td>\n",
       "      <td>unknown</td>\n",
       "      <td>https://en.wikipedia.org/wiki/Terrible_Teddy,_...</td>\n",
       "      <td>Lasting just 61 seconds and consisting of two ...</td>\n",
       "    </tr>\n",
       "    <tr>\n",
       "      <th>4</th>\n",
       "      <td>1902</td>\n",
       "      <td>Jack and the Beanstalk</td>\n",
       "      <td>American</td>\n",
       "      <td>George S. Fleming, Edwin S. Porter</td>\n",
       "      <td>NaN</td>\n",
       "      <td>unknown</td>\n",
       "      <td>https://en.wikipedia.org/wiki/Jack_and_the_Bea...</td>\n",
       "      <td>The earliest known adaptation of the classic f...</td>\n",
       "    </tr>\n",
       "  </tbody>\n",
       "</table>\n",
       "</div>"
      ],
      "text/plain": [
       "   Release Year                             Title Origin/Ethnicity  \\\n",
       "0          1901            Kansas Saloon Smashers         American   \n",
       "1          1901     Love by the Light of the Moon         American   \n",
       "2          1901           The Martyred Presidents         American   \n",
       "3          1901  Terrible Teddy, the Grizzly King         American   \n",
       "4          1902            Jack and the Beanstalk         American   \n",
       "\n",
       "                             Director Cast    Genre  \\\n",
       "0                             Unknown  NaN  unknown   \n",
       "1                             Unknown  NaN  unknown   \n",
       "2                             Unknown  NaN  unknown   \n",
       "3                             Unknown  NaN  unknown   \n",
       "4  George S. Fleming, Edwin S. Porter  NaN  unknown   \n",
       "\n",
       "                                           Wiki Page  \\\n",
       "0  https://en.wikipedia.org/wiki/Kansas_Saloon_Sm...   \n",
       "1  https://en.wikipedia.org/wiki/Love_by_the_Ligh...   \n",
       "2  https://en.wikipedia.org/wiki/The_Martyred_Pre...   \n",
       "3  https://en.wikipedia.org/wiki/Terrible_Teddy,_...   \n",
       "4  https://en.wikipedia.org/wiki/Jack_and_the_Bea...   \n",
       "\n",
       "                                                Plot  \n",
       "0  A bartender is working at a saloon, serving dr...  \n",
       "1  The moon, painted with a smiling face hangs ov...  \n",
       "2  The film, just over a minute long, is composed...  \n",
       "3  Lasting just 61 seconds and consisting of two ...  \n",
       "4  The earliest known adaptation of the classic f...  "
      ]
     },
     "execution_count": 7,
     "metadata": {},
     "output_type": "execute_result"
    }
   ],
   "source": [
    "wikipedia_data.head()"
   ]
  },
  {
   "cell_type": "code",
   "execution_count": 8,
   "metadata": {},
   "outputs": [],
   "source": [
    "map_wiki_categories={'drama, horror':'horror',\n",
    "                     'horror':'horror',\n",
    "                      'horror, comedy':'horror',\n",
    "                     'romantic drama':'romance',\n",
    "                     'romance drama':'romance',\n",
    "                     'romance/drama':'romance',\n",
    "                     'drama, romance':'romance',\n",
    "                     'romantic comedy/drama':'romance',\n",
    "                     'romance/drama':'romance',\n",
    "                     'romance/comedy':'romance',\n",
    "                     'romance':'romance',\n",
    "                     'romantic comedy':'romance',\n",
    "                     \n",
    "                     'sci-fi, horror':'science fiction',\n",
    "                     'action, sci-fi':'science fiction',\n",
    "                     'drama, science fiction':'science fiction',\n",
    "                     'comedy, science fiction':'science fiction',\n",
    "                     'sci-fi comedy':'science fiction',\n",
    "                     'sci-fi, comedy':'science fiction',\n",
    "                     'science fiction':'science fiction',\n",
    "                     'science-fiction':'science fiction',\n",
    "                     'horror, science fiction':'science fiction',\n",
    "                     'sci-fi':'science fiction',\n",
    "                     'horror, sci-fi':'science fiction',\n",
    "                     'science fiction, horror':'science fiction',\n",
    "                     'action, science fiction ':'science fiction',\n",
    "                     'science fiction, thriller':'science fiction',\n",
    "                     'tokusatsu, action, sci-fi':'science fiction',\n",
    "                     'science fiction comedy':'science fiction',\n",
    "                     'drama, science fiction':'science fiction',\n",
    "                     \n",
    "                     'action comedy':'action',\n",
    "                     'action drama':'action',\n",
    "                     'action, drama':'action',\n",
    "                     'short action/crime western':'action',\n",
    "                     'action adventure':'action',\n",
    "                     'action thriller':'action',\n",
    "                     'action masala':'action',\n",
    "                     'action':'action',\n",
    "                     \n",
    "                     'suspense':'suspense',\n",
    "                     'mystery, thriller':'suspense',\n",
    "                     'mystery, thriller':'suspense',\n",
    "                     'mystery, horror':'suspense',\n",
    "                     'action, thriller':'suspense',\n",
    "                     'mystery':'suspense',\n",
    "                     'thriller':'suspense',\n",
    "                     'drama, mystery':'suspense',\n",
    "                     'mystery, thriller':'suspense',\n",
    "                     'drama, mystery':'suspense',\n",
    "                     'drama, thriller':'suspense',\n",
    "                     'psychological thriller':'suspense',\n",
    "                     'horror thriller':'suspense',\n",
    "                     'crime/thriller':'suspense',\n",
    "                     \n",
    "                     'crime':'others',\n",
    "                     'adventure':'others',\n",
    "                     'drama, adventure':'others',\n",
    "                    }"
   ]
  },
  {
   "cell_type": "code",
   "execution_count": 9,
   "metadata": {},
   "outputs": [],
   "source": [
    "wikipedia_data['Genre']=wikipedia_data['Genre'].map(map_wiki_categories)"
   ]
  },
  {
   "cell_type": "code",
   "execution_count": 10,
   "metadata": {},
   "outputs": [],
   "source": [
    "wiki_selected_data=wikipedia_data[wikipedia_data['Genre'].isin(['romance','action','suspense','horror','science fiction','others'])]"
   ]
  },
  {
   "cell_type": "code",
   "execution_count": 11,
   "metadata": {},
   "outputs": [
    {
     "data": {
      "text/plain": [
       "array(['action', 'others', 'horror', 'romance', 'suspense',\n",
       "       'science fiction'], dtype=object)"
      ]
     },
     "execution_count": 11,
     "metadata": {},
     "output_type": "execute_result"
    }
   ],
   "source": [
    "wiki_selected_data['Genre'].unique()"
   ]
  },
  {
   "cell_type": "code",
   "execution_count": 12,
   "metadata": {},
   "outputs": [],
   "source": [
    "wiki_selected_data=wiki_selected_data[['Release Year','Title','Cast','Plot','Genre']].reset_index(drop=True)"
   ]
  },
  {
   "cell_type": "code",
   "execution_count": 13,
   "metadata": {},
   "outputs": [
    {
     "data": {
      "text/html": [
       "<div>\n",
       "<style scoped>\n",
       "    .dataframe tbody tr th:only-of-type {\n",
       "        vertical-align: middle;\n",
       "    }\n",
       "\n",
       "    .dataframe tbody tr th {\n",
       "        vertical-align: top;\n",
       "    }\n",
       "\n",
       "    .dataframe thead th {\n",
       "        text-align: right;\n",
       "    }\n",
       "</style>\n",
       "<table border=\"1\" class=\"dataframe\">\n",
       "  <thead>\n",
       "    <tr style=\"text-align: right;\">\n",
       "      <th></th>\n",
       "      <th>Release Year</th>\n",
       "      <th>Title</th>\n",
       "      <th>Cast</th>\n",
       "      <th>Plot</th>\n",
       "      <th>Genre</th>\n",
       "    </tr>\n",
       "  </thead>\n",
       "  <tbody>\n",
       "    <tr>\n",
       "      <th>0</th>\n",
       "      <td>1906</td>\n",
       "      <td>From Leadville to Aspen: A Hold-Up in the Rockies</td>\n",
       "      <td>NaN</td>\n",
       "      <td>The film features a train traveling through th...</td>\n",
       "      <td>action</td>\n",
       "    </tr>\n",
       "    <tr>\n",
       "      <th>1</th>\n",
       "      <td>1908</td>\n",
       "      <td>The Call of the Wild</td>\n",
       "      <td>Charles Inslee</td>\n",
       "      <td>A white girl (Florence Lawrence) rejects a pro...</td>\n",
       "      <td>others</td>\n",
       "    </tr>\n",
       "    <tr>\n",
       "      <th>2</th>\n",
       "      <td>1912</td>\n",
       "      <td>Dr. Jekyll and Mr. Hyde</td>\n",
       "      <td>James Cruze</td>\n",
       "      <td>White-haired Dr. Jekyll has secretly locked hi...</td>\n",
       "      <td>horror</td>\n",
       "    </tr>\n",
       "    <tr>\n",
       "      <th>3</th>\n",
       "      <td>1913</td>\n",
       "      <td>Dr. Jekyll and Mr. Hyde</td>\n",
       "      <td>King Baggot</td>\n",
       "      <td>Dr. Henry Jekyll (King Baggot) sends a note to...</td>\n",
       "      <td>horror</td>\n",
       "    </tr>\n",
       "    <tr>\n",
       "      <th>4</th>\n",
       "      <td>1913</td>\n",
       "      <td>The Evidence of the Film</td>\n",
       "      <td>William Garwood, Marie Eline</td>\n",
       "      <td>The Evidence of the Film tells the story of a ...</td>\n",
       "      <td>others</td>\n",
       "    </tr>\n",
       "  </tbody>\n",
       "</table>\n",
       "</div>"
      ],
      "text/plain": [
       "   Release Year                                              Title  \\\n",
       "0          1906  From Leadville to Aspen: A Hold-Up in the Rockies   \n",
       "1          1908                               The Call of the Wild   \n",
       "2          1912                            Dr. Jekyll and Mr. Hyde   \n",
       "3          1913                            Dr. Jekyll and Mr. Hyde   \n",
       "4          1913                           The Evidence of the Film   \n",
       "\n",
       "                           Cast  \\\n",
       "0                           NaN   \n",
       "1                Charles Inslee   \n",
       "2                   James Cruze   \n",
       "3                   King Baggot   \n",
       "4  William Garwood, Marie Eline   \n",
       "\n",
       "                                                Plot   Genre  \n",
       "0  The film features a train traveling through th...  action  \n",
       "1  A white girl (Florence Lawrence) rejects a pro...  others  \n",
       "2  White-haired Dr. Jekyll has secretly locked hi...  horror  \n",
       "3  Dr. Henry Jekyll (King Baggot) sends a note to...  horror  \n",
       "4  The Evidence of the Film tells the story of a ...  others  "
      ]
     },
     "execution_count": 13,
     "metadata": {},
     "output_type": "execute_result"
    }
   ],
   "source": [
    "wiki_selected_data.head()"
   ]
  },
  {
   "cell_type": "code",
   "execution_count": 14,
   "metadata": {},
   "outputs": [
    {
     "name": "stderr",
     "output_type": "stream",
     "text": [
      "42303it [00:01, 30363.67it/s]\n",
      "100%|██████████| 42303/42303 [00:00<00:00, 1043249.15it/s]\n"
     ]
    }
   ],
   "source": [
    "convert_txt_to_csv(CMU_plot_summaries)"
   ]
  },
  {
   "cell_type": "code",
   "execution_count": 17,
   "metadata": {},
   "outputs": [],
   "source": [
    "cmu_plot_data=data_reader.load_file(BASE_DIR + 'CMU_plot.csv','csv')"
   ]
  },
  {
   "cell_type": "code",
   "execution_count": 19,
   "metadata": {},
   "outputs": [],
   "source": [
    "cmu_movie_data=data_reader.load_file(CMU_data,'tsv')[['ID', 'Title', 'Genre','Release Year']]"
   ]
  },
  {
   "cell_type": "code",
   "execution_count": 20,
   "metadata": {},
   "outputs": [],
   "source": [
    "cmu_data = cmu_movie_data.merge(cmu_plot_data,on = 'ID',how='left')"
   ]
  },
  {
   "cell_type": "code",
   "execution_count": 21,
   "metadata": {},
   "outputs": [],
   "source": [
    "cmu_data=cmu_data[cmu_data['Plot'].notnull()]"
   ]
  },
  {
   "cell_type": "code",
   "execution_count": 22,
   "metadata": {},
   "outputs": [],
   "source": [
    "cmu_selected_data=cmu_data[(~cmu_data.Title.isin(wikipedia_data.Title))]"
   ]
  },
  {
   "cell_type": "code",
   "execution_count": 23,
   "metadata": {},
   "outputs": [
    {
     "data": {
      "text/html": [
       "<div>\n",
       "<style scoped>\n",
       "    .dataframe tbody tr th:only-of-type {\n",
       "        vertical-align: middle;\n",
       "    }\n",
       "\n",
       "    .dataframe tbody tr th {\n",
       "        vertical-align: top;\n",
       "    }\n",
       "\n",
       "    .dataframe thead th {\n",
       "        text-align: right;\n",
       "    }\n",
       "</style>\n",
       "<table border=\"1\" class=\"dataframe\">\n",
       "  <thead>\n",
       "    <tr style=\"text-align: right;\">\n",
       "      <th></th>\n",
       "      <th>ID</th>\n",
       "      <th>Title</th>\n",
       "      <th>Genre</th>\n",
       "      <th>Release Year</th>\n",
       "      <th>Plot</th>\n",
       "    </tr>\n",
       "  </thead>\n",
       "  <tbody>\n",
       "    <tr>\n",
       "      <th>4</th>\n",
       "      <td>261236</td>\n",
       "      <td>A Woman in Flames</td>\n",
       "      <td>{\"/m/07s9rl0\": \"Drama\"}</td>\n",
       "      <td>1983</td>\n",
       "      <td>Eva, an upper class housewife, becomes frustra...</td>\n",
       "    </tr>\n",
       "    <tr>\n",
       "      <th>12</th>\n",
       "      <td>6631279</td>\n",
       "      <td>Little city</td>\n",
       "      <td>{\"/m/06cvj\": \"Romantic comedy\", \"/m/0hj3n0w\": ...</td>\n",
       "      <td>1997</td>\n",
       "      <td>Adam, a San Francisco-based artist who works a...</td>\n",
       "    </tr>\n",
       "    <tr>\n",
       "      <th>14</th>\n",
       "      <td>18296435</td>\n",
       "      <td>Aaah Belinda</td>\n",
       "      <td>{\"/m/01z4y\": \"Comedy\"}</td>\n",
       "      <td>1986</td>\n",
       "      <td>Serap, a young actress with a strong, lively p...</td>\n",
       "    </tr>\n",
       "    <tr>\n",
       "      <th>15</th>\n",
       "      <td>11250635</td>\n",
       "      <td>The Mechanical Monsters</td>\n",
       "      <td>{\"/m/06n90\": \"Science Fiction\", \"/m/03k9fj\": \"...</td>\n",
       "      <td>NaN</td>\n",
       "      <td>The story starts as one of the robots flies i...</td>\n",
       "    </tr>\n",
       "    <tr>\n",
       "      <th>18</th>\n",
       "      <td>32456683</td>\n",
       "      <td>Die Fahne von Kriwoj Rog</td>\n",
       "      <td>{}</td>\n",
       "      <td>1967</td>\n",
       "      <td>Otto Brosowski, a communist miner, writes to t...</td>\n",
       "    </tr>\n",
       "  </tbody>\n",
       "</table>\n",
       "</div>"
      ],
      "text/plain": [
       "          ID                     Title  \\\n",
       "4     261236         A Woman in Flames   \n",
       "12   6631279               Little city   \n",
       "14  18296435              Aaah Belinda   \n",
       "15  11250635   The Mechanical Monsters   \n",
       "18  32456683  Die Fahne von Kriwoj Rog   \n",
       "\n",
       "                                                Genre Release Year  \\\n",
       "4                             {\"/m/07s9rl0\": \"Drama\"}         1983   \n",
       "12  {\"/m/06cvj\": \"Romantic comedy\", \"/m/0hj3n0w\": ...         1997   \n",
       "14                             {\"/m/01z4y\": \"Comedy\"}         1986   \n",
       "15  {\"/m/06n90\": \"Science Fiction\", \"/m/03k9fj\": \"...          NaN   \n",
       "18                                                 {}         1967   \n",
       "\n",
       "                                                 Plot  \n",
       "4   Eva, an upper class housewife, becomes frustra...  \n",
       "12  Adam, a San Francisco-based artist who works a...  \n",
       "14  Serap, a young actress with a strong, lively p...  \n",
       "15   The story starts as one of the robots flies i...  \n",
       "18  Otto Brosowski, a communist miner, writes to t...  "
      ]
     },
     "execution_count": 23,
     "metadata": {},
     "output_type": "execute_result"
    }
   ],
   "source": [
    "cmu_selected_data.head()"
   ]
  },
  {
   "cell_type": "code",
   "execution_count": 24,
   "metadata": {},
   "outputs": [
    {
     "name": "stderr",
     "output_type": "stream",
     "text": [
      "/usr/local/lib/python3.7/site-packages/ipykernel_launcher.py:7: SettingWithCopyWarning: \n",
      "A value is trying to be set on a copy of a slice from a DataFrame.\n",
      "Try using .loc[row_indexer,col_indexer] = value instead\n",
      "\n",
      "See the caveats in the documentation: https://pandas.pydata.org/pandas-docs/stable/user_guide/indexing.html#returning-a-view-versus-a-copy\n",
      "  import sys\n",
      "/usr/local/lib/python3.7/site-packages/ipykernel_launcher.py:8: SettingWithCopyWarning: \n",
      "A value is trying to be set on a copy of a slice from a DataFrame.\n",
      "Try using .loc[row_indexer,col_indexer] = value instead\n",
      "\n",
      "See the caveats in the documentation: https://pandas.pydata.org/pandas-docs/stable/user_guide/indexing.html#returning-a-view-versus-a-copy\n",
      "  \n"
     ]
    }
   ],
   "source": [
    "genres = [] \n",
    "# extract genres\n",
    "for i in cmu_selected_data['Genre']: \n",
    "    genres.append(list(json.loads(i).values())) \n",
    "\n",
    "# add to 'movies' dataframe  \n",
    "cmu_selected_data['Genre'] = genres\n",
    "cmu_selected_data['Genre'] = cmu_selected_data['Genre'].astype(str)"
   ]
  },
  {
   "cell_type": "code",
   "execution_count": 25,
   "metadata": {},
   "outputs": [],
   "source": [
    "cmu_mapping={\"['Action']\":\"action\",\n",
    "             \"['Thriller']\":\"suspense\",\n",
    "            \"['Science Fiction']\":\"science fiction\",\n",
    "            \"['Science Fiction', 'Horror']\":\"science fiction\",\n",
    "            \"['Science Fiction', 'Action']\":\"science fiction\",\n",
    "            \"['Thriller', 'Science Fiction', 'Horror']\":\"science fiction\",\n",
    "            \"['Science Fiction', 'Drama']\":\"science fiction\",\n",
    "            \"['Science Fiction', 'Comedy']\":\"science fiction\",\n",
    "            \"['Thriller', 'Science Fiction', 'Action']\":\"science fiction\",\n",
    "            \"['Science Fiction', 'Adventure']\":\"science fiction\"}"
   ]
  },
  {
   "cell_type": "code",
   "execution_count": 26,
   "metadata": {},
   "outputs": [
    {
     "name": "stderr",
     "output_type": "stream",
     "text": [
      "/usr/local/lib/python3.7/site-packages/ipykernel_launcher.py:1: SettingWithCopyWarning: \n",
      "A value is trying to be set on a copy of a slice from a DataFrame.\n",
      "Try using .loc[row_indexer,col_indexer] = value instead\n",
      "\n",
      "See the caveats in the documentation: https://pandas.pydata.org/pandas-docs/stable/user_guide/indexing.html#returning-a-view-versus-a-copy\n",
      "  \"\"\"Entry point for launching an IPython kernel.\n"
     ]
    }
   ],
   "source": [
    "cmu_selected_data['Genre']=cmu_selected_data['Genre'].map(cmu_mapping)\n",
    "cmu_selected_data=cmu_selected_data[cmu_selected_data['Genre'].isin(['romance','action','suspense','horror','science fiction','others'])].reset_index(drop=True)\n",
    "cmu_selected_data=cmu_selected_data.drop('ID',axis=1)\n",
    "cmu_selected_data['Cast']=None"
   ]
  },
  {
   "cell_type": "code",
   "execution_count": 27,
   "metadata": {},
   "outputs": [
    {
     "data": {
      "text/html": [
       "<div>\n",
       "<style scoped>\n",
       "    .dataframe tbody tr th:only-of-type {\n",
       "        vertical-align: middle;\n",
       "    }\n",
       "\n",
       "    .dataframe tbody tr th {\n",
       "        vertical-align: top;\n",
       "    }\n",
       "\n",
       "    .dataframe thead th {\n",
       "        text-align: right;\n",
       "    }\n",
       "</style>\n",
       "<table border=\"1\" class=\"dataframe\">\n",
       "  <thead>\n",
       "    <tr style=\"text-align: right;\">\n",
       "      <th></th>\n",
       "      <th>Title</th>\n",
       "      <th>Genre</th>\n",
       "      <th>Release Year</th>\n",
       "      <th>Plot</th>\n",
       "      <th>Cast</th>\n",
       "    </tr>\n",
       "  </thead>\n",
       "  <tbody>\n",
       "    <tr>\n",
       "      <th>0</th>\n",
       "      <td>Vandanam</td>\n",
       "      <td>action</td>\n",
       "      <td>1989</td>\n",
       "      <td>Professor Kurian Fernandez , a convict escapes...</td>\n",
       "      <td>None</td>\n",
       "    </tr>\n",
       "    <tr>\n",
       "      <th>1</th>\n",
       "      <td>Alien Express</td>\n",
       "      <td>science fiction</td>\n",
       "      <td>2005-08-13</td>\n",
       "      <td>A new bullet train is speeding passengers to L...</td>\n",
       "      <td>None</td>\n",
       "    </tr>\n",
       "    <tr>\n",
       "      <th>2</th>\n",
       "      <td>The Weapon</td>\n",
       "      <td>suspense</td>\n",
       "      <td>NaN</td>\n",
       "      <td>Lizabeth Scott plays Elsa Jenner, widowed moth...</td>\n",
       "      <td>None</td>\n",
       "    </tr>\n",
       "    <tr>\n",
       "      <th>3</th>\n",
       "      <td>The Hanged Man</td>\n",
       "      <td>suspense</td>\n",
       "      <td>NaN</td>\n",
       "      <td>Seven irrevocably damaged social misfits come ...</td>\n",
       "      <td>None</td>\n",
       "    </tr>\n",
       "    <tr>\n",
       "      <th>4</th>\n",
       "      <td>Robot Taekwon V</td>\n",
       "      <td>action</td>\n",
       "      <td>1976-07-24</td>\n",
       "      <td>Dr. Kaff , an evil scientist bent on world dom...</td>\n",
       "      <td>None</td>\n",
       "    </tr>\n",
       "  </tbody>\n",
       "</table>\n",
       "</div>"
      ],
      "text/plain": [
       "             Title            Genre Release Year  \\\n",
       "0         Vandanam           action         1989   \n",
       "1    Alien Express  science fiction   2005-08-13   \n",
       "2       The Weapon         suspense          NaN   \n",
       "3   The Hanged Man         suspense          NaN   \n",
       "4  Robot Taekwon V           action   1976-07-24   \n",
       "\n",
       "                                                Plot  Cast  \n",
       "0  Professor Kurian Fernandez , a convict escapes...  None  \n",
       "1  A new bullet train is speeding passengers to L...  None  \n",
       "2  Lizabeth Scott plays Elsa Jenner, widowed moth...  None  \n",
       "3  Seven irrevocably damaged social misfits come ...  None  \n",
       "4  Dr. Kaff , an evil scientist bent on world dom...  None  "
      ]
     },
     "execution_count": 27,
     "metadata": {},
     "output_type": "execute_result"
    }
   ],
   "source": [
    "cmu_selected_data.head()"
   ]
  },
  {
   "cell_type": "code",
   "execution_count": 28,
   "metadata": {},
   "outputs": [],
   "source": [
    "final_data=wiki_selected_data.append(cmu_selected_data)"
   ]
  },
  {
   "cell_type": "code",
   "execution_count": 30,
   "metadata": {},
   "outputs": [
    {
     "data": {
      "text/plain": [
       "romance            1681\n",
       "suspense           1641\n",
       "action             1446\n",
       "horror             1194\n",
       "others             1133\n",
       "science fiction     884\n",
       "Name: Genre, dtype: int64"
      ]
     },
     "execution_count": 30,
     "metadata": {},
     "output_type": "execute_result"
    }
   ],
   "source": [
    "final_data['Genre'].value_counts()"
   ]
  },
  {
   "cell_type": "code",
   "execution_count": 31,
   "metadata": {},
   "outputs": [
    {
     "data": {
      "text/plain": [
       "(7979, 5)"
      ]
     },
     "execution_count": 31,
     "metadata": {},
     "output_type": "execute_result"
    }
   ],
   "source": [
    "final_data.shape"
   ]
  },
  {
   "cell_type": "code",
   "execution_count": null,
   "metadata": {},
   "outputs": [],
   "source": []
  }
 ],
 "metadata": {
  "kernelspec": {
   "display_name": "Python 3",
   "language": "python",
   "name": "python3"
  },
  "language_info": {
   "codemirror_mode": {
    "name": "ipython",
    "version": 3
   },
   "file_extension": ".py",
   "mimetype": "text/x-python",
   "name": "python",
   "nbconvert_exporter": "python",
   "pygments_lexer": "ipython3",
   "version": "3.7.7"
  }
 },
 "nbformat": 4,
 "nbformat_minor": 2
}
