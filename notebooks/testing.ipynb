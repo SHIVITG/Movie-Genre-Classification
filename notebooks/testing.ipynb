{
 "cells": [
  {
   "cell_type": "code",
   "execution_count": 41,
   "metadata": {},
   "outputs": [],
   "source": [
    "import requests\n",
    "import urllib.request\n",
    "import time\n",
    "from bs4 import BeautifulSoup\n",
    "import numpy as np\n",
    "import pandas as pd\n",
    "from urllib.request import urlopen\n",
    "import re"
   ]
  },
  {
   "cell_type": "code",
   "execution_count": 134,
   "metadata": {},
   "outputs": [],
   "source": [
    "####------------------ Fetching Names of 1000 Movies----------------####"
   ]
  },
  {
   "cell_type": "code",
   "execution_count": 123,
   "metadata": {},
   "outputs": [],
   "source": [
    "BASE_URL = \"https://www.imdb.com/list/ls056549735/?sort=list_order,asc&st_dt=&mode=detail&page=\""
   ]
  },
  {
   "cell_type": "code",
   "execution_count": 130,
   "metadata": {},
   "outputs": [],
   "source": [
    "def cleanMovieName(fetched_tags:list):\n",
    "    movie_names = []\n",
    "    for tag in fetched_tags:\n",
    "        name = tag.replace(\"\\n\",\"\")\n",
    "        name = re.sub(\"([\\(\\[]).*?([\\)\\]])\", \"\\g<1>\\g<2>\",name)\n",
    "        name = name.replace(\"()\",\"\")\n",
    "        name = name[name.find(\".\")+1:]\n",
    "        movie_names.append(name)\n",
    "    return movie_names\n",
    "    "
   ]
  },
  {
   "cell_type": "code",
   "execution_count": 125,
   "metadata": {},
   "outputs": [],
   "source": [
    "def fetch_movie_names():\n",
    "    print(\"Fetching 1000 movie names.....\")\n",
    "    pages_count = 0\n",
    "    uncleaned_movie_names = []\n",
    "    while pages_count !=10:\n",
    "        html = urlopen(BASE_URL+str(pages_count))\n",
    "        soup = BeautifulSoup(html,'html.parser')\n",
    "        movie_header_tags = soup.findAll('h3',{'class':'lister-item-header'})\n",
    "        for tag in movie_header_tags:\n",
    "            uncleaned_movie_names.append(tag.text)\n",
    "        pages_count +=1\n",
    "    print(\"1000 movie names fetched\")\n",
    "    return uncleaned_movie_names\n",
    "\n"
   ]
  },
  {
   "cell_type": "code",
   "execution_count": 131,
   "metadata": {},
   "outputs": [],
   "source": [
    "cleaned_movie_names = cleanMovieName(uncleaned_movie_names)"
   ]
  },
  {
   "cell_type": "code",
   "execution_count": 133,
   "metadata": {},
   "outputs": [
    {
     "data": {
      "text/plain": [
       "1000"
      ]
     },
     "execution_count": 133,
     "metadata": {},
     "output_type": "execute_result"
    }
   ],
   "source": [
    "len(cleaned_movie_names)"
   ]
  },
  {
   "cell_type": "code",
   "execution_count": null,
   "metadata": {},
   "outputs": [],
   "source": []
  }
 ],
 "metadata": {
  "kernelspec": {
   "display_name": "Python 3",
   "language": "python",
   "name": "python3"
  },
  "language_info": {
   "codemirror_mode": {
    "name": "ipython",
    "version": 3
   },
   "file_extension": ".py",
   "mimetype": "text/x-python",
   "name": "python",
   "nbconvert_exporter": "python",
   "pygments_lexer": "ipython3",
   "version": "3.7.4"
  }
 },
 "nbformat": 4,
 "nbformat_minor": 2
}
